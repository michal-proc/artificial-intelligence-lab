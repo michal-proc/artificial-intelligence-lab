{
  "cells": [
    {
      "cell_type": "markdown",
      "metadata": {
        "id": "lWm0hO-zZ3nq"
      },
      "source": [
        "# Sieci neuronowe"
      ]
    },
    {
      "cell_type": "markdown",
      "metadata": {
        "id": "q-0UWyOdZ3nv"
      },
      "source": [
        "## Wstęp\n",
        "\n",
        "Celem laboratorium jest zapoznanie się z podstawami sieci neuronowych oraz uczeniem głębokim (*deep learning*). Zapoznasz się na nim z następującymi tematami:\n",
        "- treningiem prostych sieci neuronowych, w szczególności z:\n",
        "  - regresją liniową w sieciach neuronowych\n",
        "  - optymalizacją funkcji kosztu\n",
        "  - algorytmem spadku wzdłuż gradientu\n",
        "  - siecią typu Multilayer Perceptron (MLP)\n",
        "- frameworkiem PyTorch, w szczególności z:\n",
        "  - ładowaniem danych\n",
        "  - preprocessingiem danych\n",
        "  - pisaniem pętli treningowej i walidacyjnej\n",
        "  - walidacją modeli\n",
        "- architekturą i hiperaprametrami sieci MLP, w szczególności z:\n",
        "  - warstwami gęstymi (w pełni połączonymi)\n",
        "  - funkcjami aktywacji\n",
        "  - regularyzacją: L2, dropout"
      ]
    },
    {
      "cell_type": "markdown",
      "metadata": {
        "id": "CRBZ-xnCZ3nx"
      },
      "source": [
        "## Wykorzystywane biblioteki\n",
        "\n",
        "Zaczniemy od pisania ręcznie prostych sieci w bibliotece Numpy, służącej do obliczeń numerycznych na CPU. Później przejdziemy do wykorzystywania frameworka PyTorch, służącego do obliczeń numerycznych na CPU, GPU oraz automatycznego różniczkowania, wykorzystywanego głównie do treningu sieci neuronowych.\n",
        "\n",
        "Wykorzystamy PyTorcha ze względu na popularność, łatwość instalacji i użycia, oraz dużą kontrolę nad niskopoziomowymi aspektami budowy i treningu sieci neuronowych. Framework ten został stworzony do zastosowań badawczych i naukowych, ale ze względu na wygodę użycia stał się bardzo popularny także w przemyśle. W szczególności całkowicie zdominował przetwarzanie języka naturalnego (NLP) oraz uczenie na grafach.\n",
        "\n",
        "Pierwszy duży framework do deep learningu, oraz obecnie najpopularniejszy, to TensorFlow, wraz z wysokopoziomową nakładką Keras. Są jednak szanse, że Google (autorzy) będzie go powoli porzucać na rzecz ich nowego frameworka JAX ([dyskusja](https://www.reddit.com/r/MachineLearning/comments/vfl57t/d_google_quietly_moving_its_products_from/), [artykuł Business Insidera](https://www.businessinsider.com/facebook-pytorch-beat-google-tensorflow-jax-meta-ai-2022-6?IR=T)), który jest bardzo świeżym, ale ciekawym narzędziem.\n",
        "\n",
        "Trzecia, ale znacznie mniej popularna od powyższych opcja to Apache MXNet."
      ]
    },
    {
      "cell_type": "markdown",
      "metadata": {
        "id": "dyBWoy7kZ3ny"
      },
      "source": [
        "## Konfiguracja własnego komputera\n",
        "\n",
        "Jeżeli korzystasz z własnego komputera, to musisz zainstalować trochę więcej bibliotek (Google Colab ma je już zainstalowane).\n",
        "\n",
        "Jeżeli nie masz GPU lub nie chcesz z niego korzystać, to wystarczy znaleźć odpowiednią komendę CPU [na stronie PyTorcha](https://pytorch.org/get-started/locally/). Dla Anacondy odpowiednia komenda została podana poniżej, dla pip'a znajdź ją na stronie.\n",
        "\n",
        "Jeżeli chcesz korzystać ze wsparcia GPU (na tym laboratorium nie będzie potrzebne, na kolejnych może przyspieszyć nieco obliczenia), to musi być to odpowiednio nowa karta NVidii, mająca CUDA compatibility ([lista](https://developer.nvidia.com/cuda-gpus)). Poza PyTorchem będzie potrzebne narzędzie NVidia CUDA w wersji 11.6 lub 11.7. Instalacja na Windowsie jest bardzo prosta (wystarczy ściągnąć plik EXE i zainstalować jak każdy inny program). Instalacja na Linuxie jest trudna i można względnie łatwo zepsuć sobie system, ale jeżeli chcesz spróbować, to [ten tutorial](https://www.youtube.com/results?search_query=nvidia+cuda+install+ubuntu+20.04) jest bardzo dobry."
      ]
    },
    {
      "cell_type": "markdown",
      "metadata": {
        "id": "Othm3C2lLAsj"
      },
      "source": [
        "## Wprowadzenie\n",
        "\n",
        "Zanim zaczniemy naszą przygodę z sieciami neuronowymi, przyjrzyjmy się prostemu przykładowi regresji liniowej na syntetycznych danych:"
      ]
    },
    {
      "cell_type": "code",
      "execution_count": 47,
      "metadata": {
        "id": "rnJsfxbnLAsj"
      },
      "outputs": [],
      "source": [
        "from typing import Tuple, Dict\n",
        "\n",
        "import numpy as np\n",
        "import matplotlib.pyplot as plt"
      ]
    },
    {
      "cell_type": "code",
      "execution_count": 48,
      "metadata": {
        "colab": {
          "base_uri": "https://localhost:8080/",
          "height": 447
        },
        "id": "EaYpEXzBLAsl",
        "outputId": "9f85d7f0-7989-4a85-9a31-565b0e2c7745"
      },
      "outputs": [
        {
          "output_type": "execute_result",
          "data": {
            "text/plain": [
              "<matplotlib.collections.PathCollection at 0x7dee22312e00>"
            ]
          },
          "metadata": {},
          "execution_count": 48
        },
        {
          "output_type": "display_data",
          "data": {
            "text/plain": [
              "<Figure size 640x480 with 1 Axes>"
            ],
            "image/png": "[encoded data removed]"
          },
          "metadata": {}
        }
      ],
      "source": [
        "np.random.seed(0)\n",
        "\n",
        "x = np.linspace(0, 1, 100)\n",
        "y = x + np.random.normal(scale=0.1, size=x.shape)\n",
        "\n",
        "plt.scatter(x, y)"
      ]
    },
    {
      "cell_type": "markdown",
      "metadata": {
        "editable": true,
        "id": "PEM_-yKELAsl",
        "tags": []
      },
      "source": [
        "W przeciwieństwie do laboratorium 1, tym razem będziemy chcieli rozwiązać ten problem własnoręcznie, bez użycia wysokopoziomowego interfejsu Scikit-learn'a. W tym celu musimy sobie przypomnieć sformułowanie naszego **problemu optymalizacyjnego (optimization problem)**.\n",
        "\n",
        "W przypadku prostej regresji liniowej (1 zmienna) mamy model postaci $\\hat{y} = \\alpha x + \\beta$, z dwoma parametrami, których będziemy się uczyć. Miarą niedopasowania modelu o danych parametrach jest **funkcja kosztu (cost function)**, nazywana też funkcją celu. Najczęściej używa się **błędu średniokwadratowego (mean squared error, MSE)**:\n",
        "$$\\large\n",
        "MSE = \\frac{1}{N} \\sum_{i}^{N} (y - \\hat{y})^2\n",
        "$$\n",
        "\n",
        "Od jakich $\\alpha$ i $\\beta$ zacząć? W najprostszym wypadku wystarczy po prostu je wylosować jako niewielkie liczby zmiennoprzecinkowe."
      ]
    },
    {
      "cell_type": "markdown",
      "metadata": {
        "editable": true,
        "tags": [
          "ex"
        ],
        "id": "9YRJR5p3Z3n3"
      },
      "source": [
        "### Zadanie 1 (0.5 punkt)\n",
        "\n",
        "Uzupełnij kod funkcji `mse`, obliczającej błąd średniokwadratowy. Wykorzystaj Numpy'a w celu wektoryzacji obliczeń dla wydajności."
      ]
    },
    {
      "cell_type": "code",
      "execution_count": 49,
      "metadata": {
        "editable": true,
        "id": "RaA7Q46TLAsm",
        "tags": [
          "ex"
        ]
      },
      "outputs": [],
      "source": [
        "def mse(y: np.ndarray, y_hat: np.ndarray) -> float:\n",
        "    n = len(y)\n",
        "    mse_sum = np.sum((y - y_hat) ** 2)\n",
        "    return (1 / n) * mse_sum\n"
      ]
    },
    {
      "cell_type": "code",
      "execution_count": 50,
      "metadata": {
        "colab": {
          "base_uri": "https://localhost:8080/",
          "height": 465
        },
        "editable": true,
        "id": "qSGfamGbLAsm",
        "outputId": "c90228bc-e1f5-465b-c4c0-85ecbc90c43f",
        "tags": [
          "ex"
        ]
      },
      "outputs": [
        {
          "output_type": "stream",
          "name": "stdout",
          "text": [
            "MSE: 0.133\n"
          ]
        },
        {
          "output_type": "execute_result",
          "data": {
            "text/plain": [
              "[<matplotlib.lines.Line2D at 0x7dee2301d4b0>]"
            ]
          },
          "metadata": {},
          "execution_count": 50
        },
        {
          "output_type": "display_data",
          "data": {
            "text/plain": [
              "<Figure size 640x480 with 1 Axes>"
            ],
            "image/png": "[encoded data removed]"
          },
          "metadata": {}
        }
      ],
      "source": [
        "a = np.random.rand()\n",
        "b = np.random.rand()\n",
        "print(f\"MSE: {mse(y, a * x + b):.3f}\")\n",
        "\n",
        "plt.scatter(x, y)\n",
        "plt.plot(x, a * x + b, color=\"g\", linewidth=4)"
      ]
    },
    {
      "cell_type": "markdown",
      "metadata": {
        "id": "Y--E9Mp9LAsn"
      },
      "source": [
        "Losowe parametry radzą sobie nie najlepiej. Jak lepiej dopasować naszą prostą do danych? Zawsze możemy starać się wyprowadzić rozwiązanie analitycznie, i w tym wypadku nawet nam się uda. Jest to jednak szczególny i dość rzadki przypadek, a w szczególności nie będzie to możliwe w większych sieciach neuronowych.\n",
        "\n",
        "Potrzebna nam będzie **metoda optymalizacji (optimization method)**, dającą wartości parametrów minimalizujące dowolną różniczkowalną funkcję kosztu. Zdecydowanie najpopularniejszy jest tutaj **spadek wzdłuż gradientu (gradient descent)**.\n",
        "\n",
        "Metoda ta wywodzi się z prostych obserwacji, które tutaj przedstawimy. Bardziej szczegółowe rozwinięcie dla zainteresowanych: [sekcja 4.3 \"Deep Learning Book\"](https://www.deeplearningbook.org/contents/numerical.html), [ten praktyczny kurs](https://cs231n.github.io/optimization-1/), [analiza oryginalnej publikacji Cauchy'ego](https://www.math.uni-bielefeld.de/documenta/vol-ismp/40_lemarechal-claude.pdf) (oryginał w języku francuskim).\n",
        "\n",
        "Pochodna jest dokładnie równa granicy funkcji. Dla małego $\\epsilon$ można ją przybliżyć jako:\n",
        "$$\\large\n",
        "\\frac{f(x)}{dx} \\approx \\frac{f(x+\\epsilon) - f(x)}{\\epsilon}\n",
        "$$\n",
        "\n",
        "Przyglądając się temu równaniu widzimy, że:\n",
        "* dla funkcji rosnącej ($f(x+\\epsilon) > f(x)$) wyrażenie $\\frac{f(x)}{dx}$ będzie miało znak dodatni\n",
        "* dla funkcji malejącej ($f(x+\\epsilon) < f(x)$) wyrażenie $\\frac{f(x)}{dx}$ będzie miało znak ujemny\n",
        "\n",
        "Widzimy więc, że potrafimy wskazać kierunek zmniejszenia wartości funkcji, patrząc na znak pochodnej. Zaobserwowano także, że amplituda wartości w $\\frac{f(x)}{dx}$ jest tym większa, im dalej jesteśmy od minimum (maximum). Pochodna wyznacza więc, w jakim kierunku funkcja najszybciej rośnie, zaś przeciwny zwrot to ten, w którym funkcja najszybciej spada.\n",
        "\n",
        "Stosując powyższe do optymalizacji, mamy:\n",
        "$$\\large\n",
        "x_{t+1} = x_{t} -  \\alpha * \\frac{f(x)}{dx}\n",
        "$$\n",
        "\n",
        "$\\alpha$ to niewielka wartość (rzędu zwykle $10^{-5}$ - $10^{-2}$), wprowadzona, aby trzymać się założenia o małej zmianie parametrów ($\\epsilon$). Nazywa się ją **stałą uczącą (learning rate)** i jest zwykle najważniejszym hiperparametrem podczas nauki sieci.\n",
        "\n",
        "Metoda ta zakłada, że używamy całego zbioru danych do aktualizacji parametrów w każdym kroku, co nazywa się po prostu GD (od *gradient descent*) albo *full batch GD*. Wtedy każdy krok optymalizacji nazywa się **epoką (epoch)**.\n",
        "\n",
        "Im większa stała ucząca, tym większe nasze kroki podczas minimalizacji. Możemy więc uczyć szybciej, ale istnieje ryzyko, że będziemy \"przeskakiwać\" minima. Mniejsza stała ucząca to wolniejszy, ale dokładniejszy trening. Jednak nie zawsze ona pozwala osiągnąć lepsze wyniki, bo może okazać się, że utkniemy w minimum lokalnym. Można także zmieniać stałą uczącą podczas treningu, co nazywa się **learning rate scheduling (LR scheduling)**. Obrazowo:\n",
        "\n",
        "![learning_rate](http://www.bdhammel.com/assets/learning-rate/lr-types.png)"
      ]
    },
    {
      "cell_type": "markdown",
      "metadata": {
        "id": "496qEjkVLAso"
      },
      "source": [
        "![interactive LR](http://cdn-images-1.medium.com/max/640/1*eeIvlwkMNG1wSmj3FR6M2g.gif)"
      ]
    },
    {
      "cell_type": "markdown",
      "metadata": {
        "id": "RYkyAHKzLAsp"
      },
      "source": [
        "Policzmy więc pochodną dla naszej funkcji kosztu MSE. Pochodną liczymy po parametrach naszego modelu, bo to właśnie ich chcemy dopasować tak, żeby koszt był jak najmniejszy:\n",
        "\n",
        "$$\\large\n",
        "MSE = \\frac{1}{N} \\sum_{i}^{N} (y_i - \\hat{y_i})^2\n",
        "$$\n",
        "\n",
        "W powyższym wzorze tylko $y_i$ jest zależny od $a$ oraz $b$. Możemy wykorzystać tu regułę łańcuchową (*chain rule*) i policzyć pochodne po naszych parametrach w sposób następujący:\n",
        "\n",
        "$$\\large\n",
        "\\frac{\\text{d} MSE}{\\text{d} a} = \\frac{1}{N} \\sum_{i}^{N} \\frac{\\text{d} (y_i - \\hat{y_i})^2}{\\text{d} \\hat{y_i}} \\frac{\\text{d} \\hat{y_i}}{\\text{d} a}\n",
        "$$\n",
        "\n",
        "$$\\large\n",
        "\\frac{\\text{d} MSE}{\\text{d} b} = \\frac{1}{N} \\sum_{i}^{N} \\frac{\\text{d} (y_i - \\hat{y_i})^2}{\\text{d} \\hat{y_i}} \\frac{\\text{d} \\hat{y_i}}{\\text{d} b}\n",
        "$$\n",
        "\n",
        "Policzmy te pochodne po kolei:\n",
        "\n",
        "$$\\large\n",
        "\\frac{\\text{d} (y_i - \\hat{y_i})^2}{\\text{d} \\hat{y_i}} = -2 \\cdot (y_i - \\hat{y_i})\n",
        "$$\n",
        "\n",
        "$$\\large\n",
        "\\frac{\\text{d} \\hat{y_i}}{\\text{d} a} = x_i\n",
        "$$\n",
        "\n",
        "$$\\large\n",
        "\\frac{\\text{d} \\hat{y_i}}{\\text{d} b} = 1\n",
        "$$\n",
        "\n",
        "Łącząc powyższe wyniki dostaniemy:\n",
        "\n",
        "$$\\large\n",
        "\\frac{\\text{d} MSE}{\\text{d} a} = \\frac{-2}{N} \\sum_{i}^{N} (y_i - \\hat{y_i}) \\cdot {x_i}\n",
        "$$\n",
        "\n",
        "$$\\large\n",
        "\\frac{\\text{d} MSE}{\\text{d} b} = \\frac{-2}{N} \\sum_{i}^{N} (y_i - \\hat{y_i})\n",
        "$$\n",
        "\n",
        "Aktualizacja parametrów wygląda tak:\n",
        "\n",
        "$$\\large\n",
        "a' = a - \\alpha * \\left( \\frac{-2}{N} \\sum_{i=1}^N (y_i - \\hat{y}_i) \\cdot x_i \\right)\n",
        "$$\n",
        "$$\\large\n",
        "b' = b - \\alpha * \\left( \\frac{-2}{N} \\sum_{i=1}^N (y_i - \\hat{y}_i) \\right)\n",
        "$$\n",
        "\n",
        "Liczymy więc pochodną funkcji kosztu, a potem za pomocą reguły łańcuchowej \"cofamy się\", dochodząc do tego, jak każdy z parametrów wpływa na błąd i w jaki sposób powinniśmy go zmienić. Nazywa się to **propagacją wsteczną (backpropagation)** i jest podstawowym mechanizmem umożliwiającym naukę sieci neuronowych za pomocą spadku wzdłuż gradientu. Więcej możesz o tym przeczytać [tutaj](https://cs231n.github.io/optimization-2/)."
      ]
    },
    {
      "cell_type": "markdown",
      "metadata": {
        "editable": true,
        "tags": [
          "ex"
        ],
        "id": "0cbDQdcVZ3n6"
      },
      "source": [
        "### Zadanie 2 (1.0 punkt)\n",
        "\n",
        "Zaimplementuj funkcję realizującą jedną epokę treningową. Zauważ, że `x` oraz `y` są wektorami. Oblicz predykcję przy aktualnych parametrach oraz zaktualizuj je zgodnie z powyższymi wzorami."
      ]
    },
    {
      "cell_type": "code",
      "execution_count": 51,
      "metadata": {
        "editable": true,
        "id": "4qbdWOSULAsp",
        "tags": [
          "ex"
        ]
      },
      "outputs": [],
      "source": [
        "def optimize(x: np.ndarray, y: np.ndarray, a: float, b: float, learning_rate: float = 0.1):\n",
        "    N = len(x)\n",
        "    y_hat = a * x + b\n",
        "    errors = y - y_hat\n",
        "\n",
        "    grad_a = -2 * np.mean(x * errors)\n",
        "    grad_b = -2 * np.mean(errors)\n",
        "\n",
        "    a = a - learning_rate * grad_a\n",
        "    b = b - learning_rate * grad_b\n",
        "\n",
        "    return a, b\n"
      ]
    },
    {
      "cell_type": "code",
      "execution_count": 52,
      "metadata": {
        "editable": true,
        "tags": [
          "ex"
        ],
        "colab": {
          "base_uri": "https://localhost:8080/"
        },
        "id": "FXtThMQfZ3n7",
        "outputId": "c7cb04e4-1568-4d24-dbd7-f6504fec3635"
      },
      "outputs": [
        {
          "output_type": "stream",
          "name": "stdout",
          "text": [
            "step 0 loss:  0.1330225119404028\n",
            "step 100 loss:  0.012673197778527677\n",
            "step 200 loss:  0.010257153540857818\n",
            "step 300 loss:  0.0100948037549359\n",
            "step 400 loss:  0.010083894412889118\n",
            "step 500 loss:  0.010083161342973332\n",
            "step 600 loss:  0.01008311208321971\n",
            "step 700 loss:  0.010083108773135261\n",
            "step 800 loss:  0.010083108550709078\n",
            "step 900 loss:  0.010083108535762811\n",
            "final loss: 0.010083108534760455\n"
          ]
        }
      ],
      "source": [
        "for i in range(1000):\n",
        "    loss = mse(y, a * x + b)\n",
        "    a, b = optimize(x, y, a, b)\n",
        "    if i % 100 == 0:\n",
        "        print(f\"step {i} loss: \", loss)\n",
        "\n",
        "print(\"final loss:\", loss)"
      ]
    },
    {
      "cell_type": "code",
      "execution_count": 53,
      "metadata": {
        "tags": [
          "ex"
        ],
        "colab": {
          "base_uri": "https://localhost:8080/"
        },
        "id": "wMur74I_Z3n7",
        "outputId": "fa60a504-d95b-4f73-d745-b30baa2b7eff"
      },
      "outputs": [
        {
          "output_type": "stream",
          "name": "stdout",
          "text": [
            "Solution is correct!\n"
          ]
        }
      ],
      "source": [
        "assert 0.0 < loss < 2.0\n",
        "\n",
        "print(\"Solution is correct!\")"
      ]
    },
    {
      "cell_type": "code",
      "execution_count": 54,
      "metadata": {
        "colab": {
          "base_uri": "https://localhost:8080/",
          "height": 447
        },
        "editable": true,
        "id": "xOgRcPC1LAsq",
        "outputId": "4b4bf77b-0534-4d48-fde9-faf73016a610",
        "tags": [
          "ex"
        ]
      },
      "outputs": [
        {
          "output_type": "execute_result",
          "data": {
            "text/plain": [
              "[<matplotlib.lines.Line2D at 0x7dee219febf0>]"
            ]
          },
          "metadata": {},
          "execution_count": 54
        },
        {
          "output_type": "display_data",
          "data": {
            "text/plain": [
              "<Figure size 640x480 with 1 Axes>"
            ],
            "image/png": "[encoded data removed]"
          },
          "metadata": {}
        }
      ],
      "source": [
        "plt.scatter(x, y)\n",
        "plt.plot(x, a * x + b, color=\"g\", linewidth=4)"
      ]
    },
    {
      "cell_type": "markdown",
      "metadata": {
        "id": "vOr2fWYpLAsq"
      },
      "source": [
        "Udało ci się wytrenować swoją pierwszą sieć neuronową. Czemu? Otóż neuron to po prostu wektor parametrów, a zwykle robimy iloczyn skalarny tych parametrów z wejściem. Dodatkowo na wyjście nakłada się **funkcję aktywacji (activation function)**, która przekształca wyjście. Tutaj takiej nie było, a właściwie była to po prostu funkcja identyczności.\n",
        "\n",
        "Oczywiście w praktyce korzystamy z odpowiedniego frameworka, który w szczególności:\n",
        "- ułatwia budowanie sieci, np. ma gotowe klasy dla warstw neuronów\n",
        "- ma zaimplementowane funkcje kosztu oraz ich pochodne\n",
        "- sam różniczkuje ze względu na odpowiednie parametry i aktualizuje je odpowiednio podczas treningu\n"
      ]
    },
    {
      "cell_type": "markdown",
      "metadata": {
        "id": "NJBYJabuLAsr"
      },
      "source": [
        "## Wprowadzenie do PyTorcha"
      ]
    },
    {
      "cell_type": "markdown",
      "metadata": {
        "id": "EB-99XqhLAsr"
      },
      "source": [
        "PyTorch to w gruncie rzeczy narzędzie do algebry liniowej z [automatycznym rożniczkowaniem](https://pytorch.org/tutorials/beginner/blitz/autograd_tutorial.html), z możliwością przyspieszenia obliczeń z pomocą GPU. Na tych fundamentach zbudowany jest pełny framework do uczenia głębokiego. Można spotkać się ze stwierdzenie, że PyTorch to NumPy + GPU + opcjonalne różniczkowanie, co jest całkiem celne. Plus można łatwo debugować printem :)\n",
        "\n",
        "PyTorch używa dynamicznego grafu obliczeń, który sami definiujemy w kodzie. Takie podejście jest bardzo wygodne, elastyczne i pozwala na łatwe eksperymentowanie. Odbywa się to potencjalnie kosztem wydajności, ponieważ pozostawia kwestię optymalizacji programiście. Więcej na ten temat dla zainteresowanych na końcu laboratorium.\n",
        "\n",
        "Samo API PyTorcha bardzo przypomina Numpy'a, a podstawowym obiektem jest `Tensor`, klasa reprezentująca tensory dowolnego wymiaru. Dodatkowo niektóre tensory będą miały automatycznie obliczony gradient. Co ważne, tensor jest na pewnym urządzeniu, CPU lub GPU, a przenosić między nimi trzeba explicite.\n",
        "\n",
        "Najważniejsze moduły:\n",
        "- `torch` - podstawowe klasy oraz funkcje, np. `Tensor`, `from_numpy()`\n",
        "- `torch.nn` - klasy związane z sieciami neuronowymi, np. `Linear`, `Sigmoid`\n",
        "- `torch.optim` - wszystko związane z optymalizacją, głównie spadkiem wzdłuż gradientu"
      ]
    },
    {
      "cell_type": "code",
      "execution_count": 55,
      "metadata": {
        "id": "FwuIt8S-LAss"
      },
      "outputs": [],
      "source": [
        "import torch\n",
        "import torch.nn as nn\n",
        "import torch.optim as optim"
      ]
    },
    {
      "cell_type": "code",
      "execution_count": 56,
      "metadata": {
        "colab": {
          "base_uri": "https://localhost:8080/"
        },
        "editable": true,
        "id": "bfCiUFXULAss",
        "outputId": "de67ddad-24a6-41fa-94c4-2376a62c0a02",
        "tags": []
      },
      "outputs": [
        {
          "output_type": "stream",
          "name": "stdout",
          "text": [
            "tensor([1.2128, 1.6635, 1.9221, 1.6835, 1.2383, 1.2963, 1.6129, 1.3597, 1.5260,\n",
            "        1.4331])\n",
            "tensor([0.2128, 0.6635, 0.9221, 0.6835, 0.2383, 0.2963, 0.6129, 0.3597, 0.5260,\n",
            "        0.4331])\n",
            "tensor(4.9484)\n"
          ]
        }
      ],
      "source": [
        "ones = torch.ones(10)\n",
        "noise = torch.ones(10) * torch.rand(10)\n",
        "\n",
        "# elementwise sum\n",
        "print(ones + noise)\n",
        "\n",
        "# elementwise multiplication\n",
        "print(ones * noise)\n",
        "\n",
        "# dot product\n",
        "print(ones @ noise)"
      ]
    },
    {
      "cell_type": "code",
      "execution_count": 57,
      "metadata": {
        "editable": true,
        "tags": [],
        "colab": {
          "base_uri": "https://localhost:8080/"
        },
        "id": "9ByL-gqYZ3n8",
        "outputId": "28296dc3-edf0-436f-f974-9fad424f5c19"
      },
      "outputs": [
        {
          "output_type": "execute_result",
          "data": {
            "text/plain": [
              "numpy.ndarray"
            ]
          },
          "metadata": {},
          "execution_count": 57
        }
      ],
      "source": [
        "type(x)"
      ]
    },
    {
      "cell_type": "code",
      "execution_count": 58,
      "metadata": {
        "editable": true,
        "id": "ynNd_kD0LAst",
        "tags": []
      },
      "outputs": [],
      "source": [
        "# beware - shares memory with original Numpy array!\n",
        "# very fast, but modifications are visible to original variable\n",
        "x = torch.from_numpy(x)\n",
        "y = torch.from_numpy(y)"
      ]
    },
    {
      "cell_type": "markdown",
      "metadata": {
        "editable": true,
        "id": "W9kkxczELAsu",
        "tags": []
      },
      "source": [
        "Jeżeli dla stworzonych przez nas tensorów chcemy śledzić operacje i obliczać gradient, to musimy oznaczyć `requires_grad=True`."
      ]
    },
    {
      "cell_type": "code",
      "execution_count": 59,
      "metadata": {
        "colab": {
          "base_uri": "https://localhost:8080/"
        },
        "editable": true,
        "id": "8HtZL-KfLAsu",
        "outputId": "5b88ac37-a8e0-4010-d0ce-dd7295194574",
        "tags": []
      },
      "outputs": [
        {
          "output_type": "execute_result",
          "data": {
            "text/plain": [
              "(tensor([0.0552], requires_grad=True), tensor([0.4787], requires_grad=True))"
            ]
          },
          "metadata": {},
          "execution_count": 59
        }
      ],
      "source": [
        "a = torch.rand(1, requires_grad=True)\n",
        "b = torch.rand(1, requires_grad=True)\n",
        "a, b"
      ]
    },
    {
      "cell_type": "markdown",
      "metadata": {
        "editable": true,
        "id": "Nl1guWZ_LAsv",
        "tags": []
      },
      "source": [
        "PyTorch zawiera większość powszechnie używanych funkcji kosztu, np. MSE. Mogą być one używane na 2 sposoby, z czego pierwszy jest popularniejszy:\n",
        "- jako klasy wywoływalne z modułu `torch.nn`\n",
        "- jako funkcje z modułu `torch.nn.functional`\n",
        "\n",
        "Po wykonaniu poniższego kodu widzimy, że zwraca on nam tensor z dodatkowymi atrybutami. Co ważne, jest to skalar (0-wymiarowy tensor), bo potrzebujemy zwyczajnej liczby do obliczania propagacji wstecznych (pochodnych czątkowych)."
      ]
    },
    {
      "cell_type": "code",
      "execution_count": 60,
      "metadata": {
        "editable": true,
        "tags": [],
        "colab": {
          "base_uri": "https://localhost:8080/"
        },
        "id": "qvT6dsK2Z3n9",
        "outputId": "8a5007db-881c-4e7b-fff0-84d93fef3cda"
      },
      "outputs": [
        {
          "output_type": "execute_result",
          "data": {
            "text/plain": [
              "tensor(0.0813, dtype=torch.float64, grad_fn=<MseLossBackward0>)"
            ]
          },
          "metadata": {},
          "execution_count": 60
        }
      ],
      "source": [
        "mse = nn.MSELoss()\n",
        "mse(y, a * x + b)"
      ]
    },
    {
      "cell_type": "markdown",
      "metadata": {
        "editable": true,
        "id": "vS35r49nLAsw",
        "tags": []
      },
      "source": [
        "Atrybutu `grad_fn` nie używamy wprost, bo korzysta z niego w środku PyTorch, ale widać, że tensor jest \"świadomy\", że liczy się na nim pochodną. Możemy natomiast skorzystać z atrybutu `grad`, który zawiera faktyczny gradient. Zanim go jednak dostaniemy, to trzeba powiedzieć PyTorchowi, żeby policzył gradient. Służy do tego metoda `.backward()`, wywoływana na obiekcie zwracanym przez funkcję kosztu."
      ]
    },
    {
      "cell_type": "code",
      "execution_count": 61,
      "metadata": {
        "editable": true,
        "id": "Qb7l6Xg1LAsx",
        "tags": []
      },
      "outputs": [],
      "source": [
        "loss = mse(y, a * x + b)\n",
        "loss.backward()"
      ]
    },
    {
      "cell_type": "code",
      "execution_count": 62,
      "metadata": {
        "colab": {
          "base_uri": "https://localhost:8080/"
        },
        "editable": true,
        "id": "6LfQbLVoLAsx",
        "outputId": "96da4fda-64c0-4b69-ac04-82ac4100bfeb",
        "tags": []
      },
      "outputs": [
        {
          "output_type": "stream",
          "name": "stdout",
          "text": [
            "tensor([-0.1553])\n"
          ]
        }
      ],
      "source": [
        "print(a.grad)"
      ]
    },
    {
      "cell_type": "markdown",
      "metadata": {
        "editable": true,
        "id": "Kdf1iweELAsy",
        "tags": []
      },
      "source": [
        "Ważne jest, że PyTorch nie liczy za każdym razem nowego gradientu, tylko dodaje go do istniejącego, czyli go akumuluje. Jest to przydatne w niektórych sieciach neuronowych, ale zazwyczaj trzeba go zerować. Jeżeli tego nie zrobimy, to dostaniemy coraz większe gradienty.\n",
        "\n",
        "Do zerowania służy metoda `.zero_()`. W PyTorchu wszystkie metody modyfikujące tensor w miejscu mają `_` na końcu nazwy. Jest to dość niskopoziomowa operacja dla pojedynczych tensorów - zobaczymy za chwilę, jak to robić łatwiej dla całej sieci."
      ]
    },
    {
      "cell_type": "code",
      "execution_count": 63,
      "metadata": {
        "colab": {
          "base_uri": "https://localhost:8080/"
        },
        "editable": true,
        "id": "DiCQZKJsLAsy",
        "outputId": "680087f4-7a0b-47ac-abd5-0f3de4583c63",
        "tags": []
      },
      "outputs": [
        {
          "output_type": "execute_result",
          "data": {
            "text/plain": [
              "tensor([-0.3106])"
            ]
          },
          "metadata": {},
          "execution_count": 63
        }
      ],
      "source": [
        "loss = mse(y, a * x + b)\n",
        "loss.backward()\n",
        "a.grad"
      ]
    },
    {
      "cell_type": "markdown",
      "metadata": {
        "editable": true,
        "id": "xNC3Ag8uLAsz",
        "tags": []
      },
      "source": [
        "Zobaczmy, jak wyglądałaby regresja liniowa, ale napisana w PyTorchu. Jest to oczywiście bardzo niskopoziomowa implementacja - za chwilę zobaczymy, jak to wygląda w praktyce."
      ]
    },
    {
      "cell_type": "code",
      "execution_count": 64,
      "metadata": {
        "colab": {
          "base_uri": "https://localhost:8080/"
        },
        "editable": true,
        "id": "AKnxyeboLAsz",
        "outputId": "632e4c09-505e-426f-b7f1-adacb5923919",
        "tags": []
      },
      "outputs": [
        {
          "output_type": "stream",
          "name": "stdout",
          "text": [
            "step 0 loss:  tensor(0.0813, dtype=torch.float64, grad_fn=<MseLossBackward0>)\n",
            "step 100 loss:  tensor(0.0145, dtype=torch.float64, grad_fn=<MseLossBackward0>)\n",
            "step 200 loss:  tensor(0.0104, dtype=torch.float64, grad_fn=<MseLossBackward0>)\n",
            "step 300 loss:  tensor(0.0101, dtype=torch.float64, grad_fn=<MseLossBackward0>)\n",
            "step 400 loss:  tensor(0.0101, dtype=torch.float64, grad_fn=<MseLossBackward0>)\n",
            "step 500 loss:  tensor(0.0101, dtype=torch.float64, grad_fn=<MseLossBackward0>)\n",
            "step 600 loss:  tensor(0.0101, dtype=torch.float64, grad_fn=<MseLossBackward0>)\n",
            "step 700 loss:  tensor(0.0101, dtype=torch.float64, grad_fn=<MseLossBackward0>)\n",
            "step 800 loss:  tensor(0.0101, dtype=torch.float64, grad_fn=<MseLossBackward0>)\n",
            "step 900 loss:  tensor(0.0101, dtype=torch.float64, grad_fn=<MseLossBackward0>)\n",
            "final loss: tensor(0.0101, dtype=torch.float64, grad_fn=<MseLossBackward0>)\n"
          ]
        }
      ],
      "source": [
        "learning_rate = 0.1\n",
        "for i in range(1000):\n",
        "    loss = mse(y, a * x + b)\n",
        "\n",
        "    # compute gradients\n",
        "    loss.backward()\n",
        "\n",
        "    # update parameters\n",
        "    a.data -= learning_rate * a.grad\n",
        "    b.data -= learning_rate * b.grad\n",
        "\n",
        "    # zero gradients\n",
        "    a.grad.data.zero_()\n",
        "    b.grad.data.zero_()\n",
        "\n",
        "    if i % 100 == 0:\n",
        "        print(f\"step {i} loss: \", loss)\n",
        "\n",
        "print(\"final loss:\", loss)"
      ]
    },
    {
      "cell_type": "markdown",
      "metadata": {
        "editable": true,
        "id": "2DXNVhshmmI-",
        "tags": []
      },
      "source": [
        "Trening modeli w PyTorchu jest dosyć schematyczny i najczęściej rozdziela się go na kilka bloków, dających razem **pętlę uczącą (training loop)**, powtarzaną w każdej epoce:\n",
        "1. Forward pass - obliczenie predykcji sieci\n",
        "2. Loss calculation\n",
        "3. Backpropagation - obliczenie pochodnych oraz zerowanie gradientów\n",
        "4. Optimalization - aktualizacja wag\n",
        "5. Other - ewaluacja na zbiorze walidacyjnym, logging etc."
      ]
    },
    {
      "cell_type": "code",
      "execution_count": 65,
      "metadata": {
        "colab": {
          "base_uri": "https://localhost:8080/"
        },
        "editable": true,
        "id": "2etpw7TNLAs0",
        "outputId": "52055dd5-d21a-4681-a070-1b8e1b7863fc",
        "scrolled": true,
        "tags": []
      },
      "outputs": [
        {
          "output_type": "stream",
          "name": "stdout",
          "text": [
            "step 0 loss: 0.1858\n",
            "step 100 loss: 0.0140\n",
            "step 200 loss: 0.0103\n",
            "step 300 loss: 0.0101\n",
            "step 400 loss: 0.0101\n",
            "step 500 loss: 0.0101\n",
            "step 600 loss: 0.0101\n",
            "step 700 loss: 0.0101\n",
            "step 800 loss: 0.0101\n",
            "step 900 loss: 0.0101\n",
            "final loss: tensor(0.0101, dtype=torch.float64, grad_fn=<MseLossBackward0>)\n"
          ]
        }
      ],
      "source": [
        "# initialization\n",
        "learning_rate = 0.1\n",
        "a = torch.rand(1, requires_grad=True)\n",
        "b = torch.rand(1, requires_grad=True)\n",
        "optimizer = torch.optim.SGD([a, b], lr=learning_rate)\n",
        "best_loss = float(\"inf\")\n",
        "\n",
        "# training loop in each epoch\n",
        "for i in range(1000):\n",
        "    # forward pass\n",
        "    y_hat = a * x + b\n",
        "\n",
        "    # loss calculation\n",
        "    loss = mse(y, y_hat)\n",
        "\n",
        "    # backpropagation\n",
        "    loss.backward()\n",
        "\n",
        "    # optimization\n",
        "    optimizer.step()\n",
        "    optimizer.zero_grad()  # zeroes all gradients - very convenient!\n",
        "\n",
        "    if i % 100 == 0:\n",
        "        if loss < best_loss:\n",
        "            best_model = (a.clone(), b.clone())\n",
        "            best_loss = loss\n",
        "        print(f\"step {i} loss: {loss.item():.4f}\")\n",
        "\n",
        "print(\"final loss:\", loss)"
      ]
    },
    {
      "cell_type": "markdown",
      "metadata": {
        "editable": true,
        "tags": [],
        "id": "kmFGPsR7Z3oI"
      },
      "source": [
        "Przejdziemy teraz do budowy sieci neuronowej do klasyfikacji. Typowo implementuje się ją po prostu jako sieć dla regresji, ale zwracającą tyle wyników, ile mamy klas, a potem aplikuje się na tym funkcję sigmoidalną (2 klasy) lub softmax (>2 klasy). W przypadku klasyfikacji binarnej zwraca się czasem tylko 1 wartość, przepuszczaną przez sigmoidę - wtedy wyjście z sieci to prawdopodobieństwo klasy pozytywnej.\n",
        "\n",
        "Funkcją kosztu zwykle jest **entropia krzyżowa (cross-entropy)**, stosowana też w klasycznej regresji logistycznej. Co ważne, sieci neuronowe, nawet tak proste, uczą się szybciej i stabilniej, gdy dane na wejściu (a przynajmniej zmienne numeryczne) są **ustandaryzowane (standardized)**. Operacja ta polega na odjęciu średniej i podzieleniu przez odchylenie standardowe (tzw. *Z-score transformation*).\n",
        "\n",
        "**Uwaga - PyTorch wymaga tensora klas będącego liczbami zmiennoprzecinkowymi!**"
      ]
    },
    {
      "cell_type": "markdown",
      "metadata": {
        "editable": true,
        "tags": [],
        "id": "GsvXrvLpZ3oI"
      },
      "source": [
        "## Zbiór danych"
      ]
    },
    {
      "cell_type": "markdown",
      "metadata": {
        "editable": true,
        "tags": [],
        "id": "XL2vYLe7Z3oI"
      },
      "source": [
        "Na tym laboratorium wykorzystamy zbiór [Adult Census](https://archive.ics.uci.edu/ml/datasets/adult). Dotyczy on przewidywania na podstawie danych demograficznych, czy dany człowiek zarabia powyżej 50 tysięcy dolarów rocznie, czy też mniej. Jest to cenna informacja np. przy planowaniu kampanii marketingowych. Jak możesz się domyślić, zbiór pochodzi z czasów, kiedy inflacja była dużo niższa :)\n",
        "\n",
        "Poniżej znajduje się kod do ściągnięcia i preprocessingu zbioru. Nie musisz go dokładnie analizować."
      ]
    },
    {
      "cell_type": "code",
      "execution_count": 66,
      "metadata": {
        "colab": {
          "base_uri": "https://localhost:8080/"
        },
        "editable": true,
        "id": "4DNsaZAnLAs0",
        "outputId": "a7e52315-d508-44e7-b95a-2b10fe98517c",
        "scrolled": true,
        "tags": []
      },
      "outputs": [
        {
          "output_type": "stream",
          "name": "stdout",
          "text": [
            "--2024-11-20 21:05:44--  https://archive.ics.uci.edu/ml/machine-learning-databases/adult/adult.data\n",
            "Resolving archive.ics.uci.edu (archive.ics.uci.edu)... 128.195.10.252\n",
            "Connecting to archive.ics.uci.edu (archive.ics.uci.edu)|128.195.10.252|:443... connected.\n",
            "HTTP request sent, awaiting response... 200 OK\n",
            "Length: unspecified\n",
            "Saving to: ‘adult.data.1’\n",
            "\n",
            "adult.data.1            [ <=>                ]   3.79M  --.-KB/s    in 0.1s    \n",
            "\n",
            "2024-11-20 21:05:44 (28.2 MB/s) - ‘adult.data.1’ saved [3974305]\n",
            "\n"
          ]
        }
      ],
      "source": [
        "!wget https://archive.ics.uci.edu/ml/machine-learning-databases/adult/adult.data"
      ]
    },
    {
      "cell_type": "code",
      "execution_count": 67,
      "metadata": {
        "editable": true,
        "tags": [],
        "colab": {
          "base_uri": "https://localhost:8080/"
        },
        "id": "O7jgFB5GZ3oJ",
        "outputId": "a039df0d-854d-4cde-d5ef-449912ffb7d7"
      },
      "outputs": [
        {
          "output_type": "execute_result",
          "data": {
            "text/plain": [
              "array([' <=50K', ' >50K'], dtype=object)"
            ]
          },
          "metadata": {},
          "execution_count": 67
        }
      ],
      "source": [
        "import pandas as pd\n",
        "\n",
        "\n",
        "columns = [\n",
        "    \"age\",\n",
        "    \"workclass\",\n",
        "    \"fnlwgt\",\n",
        "    \"education\",\n",
        "    \"education-num\",\n",
        "    \"marital-status\",\n",
        "    \"occupation\",\n",
        "    \"relationship\",\n",
        "    \"race\",\n",
        "    \"sex\",\n",
        "    \"capital-gain\",\n",
        "    \"capital-loss\",\n",
        "    \"hours-per-week\",\n",
        "    \"native-country\",\n",
        "    \"wage\"\n",
        "]\n",
        "\n",
        "\"\"\"\n",
        "age: continuous.\n",
        "workclass: Private, Self-emp-not-inc, Self-emp-inc, Federal-gov, Local-gov, State-gov, Without-pay, Never-worked.\n",
        "fnlwgt: continuous.\n",
        "education: Bachelors, Some-college, 11th, HS-grad, Prof-school, Assoc-acdm, Assoc-voc, 9th, 7th-8th, 12th, Masters, 1st-4th, 10th, Doctorate, 5th-6th, Preschool.\n",
        "education-num: continuous.\n",
        "marital-status: Married-civ-spouse, Divorced, Never-married, Separated, Widowed, Married-spouse-absent, Married-AF-spouse.\n",
        "occupation: Tech-support, Craft-repair, Other-service, Sales, Exec-managerial, Prof-specialty, Handlers-cleaners, Machine-op-inspct, Adm-clerical, Farming-fishing, Transport-moving, Priv-house-serv, Protective-serv, Armed-Forces.\n",
        "relationship: Wife, Own-child, Husband, Not-in-family, Other-relative, Unmarried.\n",
        "race: White, Asian-Pac-Islander, Amer-Indian-Eskimo, Other, Black.\n",
        "sex: Female, Male.\n",
        "capital-gain: continuous.\n",
        "capital-loss: continuous.\n",
        "hours-per-week: continuous.\n",
        "native-country: United-States, Cambodia, England, Puerto-Rico, Canada, Germany, Outlying-US(Guam-USVI-etc), India, Japan, Greece, South, China, Cuba, Iran, Honduras, Philippines, Italy, Poland, Jamaica, Vietnam, Mexico, Portugal, Ireland, France, Dominican-Republic, Laos, Ecuador, Taiwan, Haiti, Columbia, Hungary, Guatemala, Nicaragua, Scotland, Thailand, Yugoslavia, El-Salvador, Trinadad&Tobago, Peru, Hong, Holand-Netherlands.\n",
        "\"\"\"\n",
        "\n",
        "df = pd.read_csv(\"adult.data\", header=None, names=columns)\n",
        "df.wage.unique()"
      ]
    },
    {
      "cell_type": "code",
      "execution_count": 68,
      "metadata": {
        "editable": true,
        "tags": [],
        "colab": {
          "base_uri": "https://localhost:8080/"
        },
        "id": "ssOZQYf6Z3oJ",
        "outputId": "7eca85ba-f03c-4d4a-abd3-1143a14979de"
      },
      "outputs": [
        {
          "output_type": "stream",
          "name": "stderr",
          "text": [
            "<ipython-input-68-34a60972a90f>:2: FutureWarning: A value is trying to be set on a copy of a DataFrame or Series through chained assignment using an inplace method.\n",
            "The behavior will change in pandas 3.0. This inplace method will never work because the intermediate object on which we are setting values always behaves as a copy.\n",
            "\n",
            "For example, when doing 'df[col].method(value, inplace=True)', try using 'df.method({col: value}, inplace=True)' or df[col] = df[col].method(value) instead, to perform the operation inplace on the original object.\n",
            "\n",
            "\n",
            "  df['education'].replace('Preschool', 'dropout',inplace=True)\n",
            "<ipython-input-68-34a60972a90f>:3: FutureWarning: A value is trying to be set on a copy of a DataFrame or Series through chained assignment using an inplace method.\n",
            "The behavior will change in pandas 3.0. This inplace method will never work because the intermediate object on which we are setting values always behaves as a copy.\n",
            "\n",
            "For example, when doing 'df[col].method(value, inplace=True)', try using 'df.method({col: value}, inplace=True)' or df[col] = df[col].method(value) instead, to perform the operation inplace on the original object.\n",
            "\n",
            "\n",
            "  df['education'].replace('10th', 'dropout',inplace=True)\n",
            "<ipython-input-68-34a60972a90f>:4: FutureWarning: A value is trying to be set on a copy of a DataFrame or Series through chained assignment using an inplace method.\n",
            "The behavior will change in pandas 3.0. This inplace method will never work because the intermediate object on which we are setting values always behaves as a copy.\n",
            "\n",
            "For example, when doing 'df[col].method(value, inplace=True)', try using 'df.method({col: value}, inplace=True)' or df[col] = df[col].method(value) instead, to perform the operation inplace on the original object.\n",
            "\n",
            "\n",
            "  df['education'].replace('11th', 'dropout',inplace=True)\n",
            "<ipython-input-68-34a60972a90f>:5: FutureWarning: A value is trying to be set on a copy of a DataFrame or Series through chained assignment using an inplace method.\n",
            "The behavior will change in pandas 3.0. This inplace method will never work because the intermediate object on which we are setting values always behaves as a copy.\n",
            "\n",
            "For example, when doing 'df[col].method(value, inplace=True)', try using 'df.method({col: value}, inplace=True)' or df[col] = df[col].method(value) instead, to perform the operation inplace on the original object.\n",
            "\n",
            "\n",
            "  df['education'].replace('12th', 'dropout',inplace=True)\n",
            "<ipython-input-68-34a60972a90f>:6: FutureWarning: A value is trying to be set on a copy of a DataFrame or Series through chained assignment using an inplace method.\n",
            "The behavior will change in pandas 3.0. This inplace method will never work because the intermediate object on which we are setting values always behaves as a copy.\n",
            "\n",
            "For example, when doing 'df[col].method(value, inplace=True)', try using 'df.method({col: value}, inplace=True)' or df[col] = df[col].method(value) instead, to perform the operation inplace on the original object.\n",
            "\n",
            "\n",
            "  df['education'].replace('1st-4th', 'dropout',inplace=True)\n",
            "<ipython-input-68-34a60972a90f>:7: FutureWarning: A value is trying to be set on a copy of a DataFrame or Series through chained assignment using an inplace method.\n",
            "The behavior will change in pandas 3.0. This inplace method will never work because the intermediate object on which we are setting values always behaves as a copy.\n",
            "\n",
            "For example, when doing 'df[col].method(value, inplace=True)', try using 'df.method({col: value}, inplace=True)' or df[col] = df[col].method(value) instead, to perform the operation inplace on the original object.\n",
            "\n",
            "\n",
            "  df['education'].replace('5th-6th', 'dropout',inplace=True)\n",
            "<ipython-input-68-34a60972a90f>:8: FutureWarning: A value is trying to be set on a copy of a DataFrame or Series through chained assignment using an inplace method.\n",
            "The behavior will change in pandas 3.0. This inplace method will never work because the intermediate object on which we are setting values always behaves as a copy.\n",
            "\n",
            "For example, when doing 'df[col].method(value, inplace=True)', try using 'df.method({col: value}, inplace=True)' or df[col] = df[col].method(value) instead, to perform the operation inplace on the original object.\n",
            "\n",
            "\n",
            "  df['education'].replace('7th-8th', 'dropout',inplace=True)\n",
            "<ipython-input-68-34a60972a90f>:9: FutureWarning: A value is trying to be set on a copy of a DataFrame or Series through chained assignment using an inplace method.\n",
            "The behavior will change in pandas 3.0. This inplace method will never work because the intermediate object on which we are setting values always behaves as a copy.\n",
            "\n",
            "For example, when doing 'df[col].method(value, inplace=True)', try using 'df.method({col: value}, inplace=True)' or df[col] = df[col].method(value) instead, to perform the operation inplace on the original object.\n",
            "\n",
            "\n",
            "  df['education'].replace('9th', 'dropout',inplace=True)\n",
            "<ipython-input-68-34a60972a90f>:10: FutureWarning: A value is trying to be set on a copy of a DataFrame or Series through chained assignment using an inplace method.\n",
            "The behavior will change in pandas 3.0. This inplace method will never work because the intermediate object on which we are setting values always behaves as a copy.\n",
            "\n",
            "For example, when doing 'df[col].method(value, inplace=True)', try using 'df.method({col: value}, inplace=True)' or df[col] = df[col].method(value) instead, to perform the operation inplace on the original object.\n",
            "\n",
            "\n",
            "  df['education'].replace('HS-Grad', 'HighGrad',inplace=True)\n",
            "<ipython-input-68-34a60972a90f>:11: FutureWarning: A value is trying to be set on a copy of a DataFrame or Series through chained assignment using an inplace method.\n",
            "The behavior will change in pandas 3.0. This inplace method will never work because the intermediate object on which we are setting values always behaves as a copy.\n",
            "\n",
            "For example, when doing 'df[col].method(value, inplace=True)', try using 'df.method({col: value}, inplace=True)' or df[col] = df[col].method(value) instead, to perform the operation inplace on the original object.\n",
            "\n",
            "\n",
            "  df['education'].replace('HS-grad', 'HighGrad',inplace=True)\n",
            "<ipython-input-68-34a60972a90f>:12: FutureWarning: A value is trying to be set on a copy of a DataFrame or Series through chained assignment using an inplace method.\n",
            "The behavior will change in pandas 3.0. This inplace method will never work because the intermediate object on which we are setting values always behaves as a copy.\n",
            "\n",
            "For example, when doing 'df[col].method(value, inplace=True)', try using 'df.method({col: value}, inplace=True)' or df[col] = df[col].method(value) instead, to perform the operation inplace on the original object.\n",
            "\n",
            "\n",
            "  df['education'].replace('Some-college', 'CommunityCollege',inplace=True)\n",
            "<ipython-input-68-34a60972a90f>:13: FutureWarning: A value is trying to be set on a copy of a DataFrame or Series through chained assignment using an inplace method.\n",
            "The behavior will change in pandas 3.0. This inplace method will never work because the intermediate object on which we are setting values always behaves as a copy.\n",
            "\n",
            "For example, when doing 'df[col].method(value, inplace=True)', try using 'df.method({col: value}, inplace=True)' or df[col] = df[col].method(value) instead, to perform the operation inplace on the original object.\n",
            "\n",
            "\n",
            "  df['education'].replace('Assoc-acdm', 'CommunityCollege',inplace=True)\n",
            "<ipython-input-68-34a60972a90f>:14: FutureWarning: A value is trying to be set on a copy of a DataFrame or Series through chained assignment using an inplace method.\n",
            "The behavior will change in pandas 3.0. This inplace method will never work because the intermediate object on which we are setting values always behaves as a copy.\n",
            "\n",
            "For example, when doing 'df[col].method(value, inplace=True)', try using 'df.method({col: value}, inplace=True)' or df[col] = df[col].method(value) instead, to perform the operation inplace on the original object.\n",
            "\n",
            "\n",
            "  df['education'].replace('Assoc-voc', 'CommunityCollege',inplace=True)\n",
            "<ipython-input-68-34a60972a90f>:15: FutureWarning: A value is trying to be set on a copy of a DataFrame or Series through chained assignment using an inplace method.\n",
            "The behavior will change in pandas 3.0. This inplace method will never work because the intermediate object on which we are setting values always behaves as a copy.\n",
            "\n",
            "For example, when doing 'df[col].method(value, inplace=True)', try using 'df.method({col: value}, inplace=True)' or df[col] = df[col].method(value) instead, to perform the operation inplace on the original object.\n",
            "\n",
            "\n",
            "  df['education'].replace('Bachelors', 'Bachelors',inplace=True)\n",
            "<ipython-input-68-34a60972a90f>:16: FutureWarning: A value is trying to be set on a copy of a DataFrame or Series through chained assignment using an inplace method.\n",
            "The behavior will change in pandas 3.0. This inplace method will never work because the intermediate object on which we are setting values always behaves as a copy.\n",
            "\n",
            "For example, when doing 'df[col].method(value, inplace=True)', try using 'df.method({col: value}, inplace=True)' or df[col] = df[col].method(value) instead, to perform the operation inplace on the original object.\n",
            "\n",
            "\n",
            "  df['education'].replace('Masters', 'Masters',inplace=True)\n",
            "<ipython-input-68-34a60972a90f>:17: FutureWarning: A value is trying to be set on a copy of a DataFrame or Series through chained assignment using an inplace method.\n",
            "The behavior will change in pandas 3.0. This inplace method will never work because the intermediate object on which we are setting values always behaves as a copy.\n",
            "\n",
            "For example, when doing 'df[col].method(value, inplace=True)', try using 'df.method({col: value}, inplace=True)' or df[col] = df[col].method(value) instead, to perform the operation inplace on the original object.\n",
            "\n",
            "\n",
            "  df['education'].replace('Prof-school', 'Masters',inplace=True)\n",
            "<ipython-input-68-34a60972a90f>:18: FutureWarning: A value is trying to be set on a copy of a DataFrame or Series through chained assignment using an inplace method.\n",
            "The behavior will change in pandas 3.0. This inplace method will never work because the intermediate object on which we are setting values always behaves as a copy.\n",
            "\n",
            "For example, when doing 'df[col].method(value, inplace=True)', try using 'df.method({col: value}, inplace=True)' or df[col] = df[col].method(value) instead, to perform the operation inplace on the original object.\n",
            "\n",
            "\n",
            "  df['education'].replace('Doctorate', 'Doctorate',inplace=True)\n",
            "<ipython-input-68-34a60972a90f>:20: FutureWarning: A value is trying to be set on a copy of a DataFrame or Series through chained assignment using an inplace method.\n",
            "The behavior will change in pandas 3.0. This inplace method will never work because the intermediate object on which we are setting values always behaves as a copy.\n",
            "\n",
            "For example, when doing 'df[col].method(value, inplace=True)', try using 'df.method({col: value}, inplace=True)' or df[col] = df[col].method(value) instead, to perform the operation inplace on the original object.\n",
            "\n",
            "\n",
            "  df['marital-status'].replace('Never-married', 'NotMarried',inplace=True)\n",
            "<ipython-input-68-34a60972a90f>:21: FutureWarning: A value is trying to be set on a copy of a DataFrame or Series through chained assignment using an inplace method.\n",
            "The behavior will change in pandas 3.0. This inplace method will never work because the intermediate object on which we are setting values always behaves as a copy.\n",
            "\n",
            "For example, when doing 'df[col].method(value, inplace=True)', try using 'df.method({col: value}, inplace=True)' or df[col] = df[col].method(value) instead, to perform the operation inplace on the original object.\n",
            "\n",
            "\n",
            "  df['marital-status'].replace(['Married-AF-spouse'], 'Married',inplace=True)\n"
          ]
        }
      ],
      "source": [
        "# attribution: https://www.kaggle.com/code/royshih23/topic7-classification-in-python\n",
        "df['education'].replace('Preschool', 'dropout',inplace=True)\n",
        "df['education'].replace('10th', 'dropout',inplace=True)\n",
        "df['education'].replace('11th', 'dropout',inplace=True)\n",
        "df['education'].replace('12th', 'dropout',inplace=True)\n",
        "df['education'].replace('1st-4th', 'dropout',inplace=True)\n",
        "df['education'].replace('5th-6th', 'dropout',inplace=True)\n",
        "df['education'].replace('7th-8th', 'dropout',inplace=True)\n",
        "df['education'].replace('9th', 'dropout',inplace=True)\n",
        "df['education'].replace('HS-Grad', 'HighGrad',inplace=True)\n",
        "df['education'].replace('HS-grad', 'HighGrad',inplace=True)\n",
        "df['education'].replace('Some-college', 'CommunityCollege',inplace=True)\n",
        "df['education'].replace('Assoc-acdm', 'CommunityCollege',inplace=True)\n",
        "df['education'].replace('Assoc-voc', 'CommunityCollege',inplace=True)\n",
        "df['education'].replace('Bachelors', 'Bachelors',inplace=True)\n",
        "df['education'].replace('Masters', 'Masters',inplace=True)\n",
        "df['education'].replace('Prof-school', 'Masters',inplace=True)\n",
        "df['education'].replace('Doctorate', 'Doctorate',inplace=True)\n",
        "\n",
        "df['marital-status'].replace('Never-married', 'NotMarried',inplace=True)\n",
        "df['marital-status'].replace(['Married-AF-spouse'], 'Married',inplace=True)\n",
        "df['marital-status'].replace(['Married-civ-spouse'], 'Married',inplace=True)\n",
        "df['marital-status'].replace(['Married-spouse-absent'], 'NotMarried',inplace=True)\n",
        "df['marital-status'].replace(['Separated'], 'Separated',inplace=True)\n",
        "df['marital-status'].replace(['Divorced'], 'Separated',inplace=True)\n",
        "df['marital-status'].replace(['Widowed'], 'Widowed',inplace=True)"
      ]
    },
    {
      "cell_type": "code",
      "execution_count": 69,
      "metadata": {
        "colab": {
          "base_uri": "https://localhost:8080/"
        },
        "editable": true,
        "id": "LiOxs_6mLAs1",
        "outputId": "8f895a06-255a-4654-a38d-4c427bbd3044",
        "tags": []
      },
      "outputs": [
        {
          "output_type": "execute_result",
          "data": {
            "text/plain": [
              "((20838, 108), (20838,))"
            ]
          },
          "metadata": {},
          "execution_count": 69
        }
      ],
      "source": [
        "from sklearn.model_selection import train_test_split\n",
        "from sklearn.preprocessing import MinMaxScaler, OneHotEncoder, StandardScaler\n",
        "\n",
        "\n",
        "X = df.copy()\n",
        "y = (X.pop(\"wage\") == ' >50K').astype(int).values\n",
        "\n",
        "train_valid_size = 0.2\n",
        "\n",
        "X_train, X_test, y_train, y_test = train_test_split(\n",
        "    X, y,\n",
        "    test_size=train_valid_size,\n",
        "    random_state=0,\n",
        "    shuffle=True,\n",
        "    stratify=y\n",
        ")\n",
        "X_train, X_valid, y_train, y_valid = train_test_split(\n",
        "    X_train, y_train,\n",
        "    test_size=train_valid_size,\n",
        "    random_state=0,\n",
        "    shuffle=True,\n",
        "    stratify=y_train\n",
        ")\n",
        "\n",
        "continuous_cols = ['age', 'fnlwgt', 'education-num', 'capital-gain', 'capital-loss', 'hours-per-week']\n",
        "continuous_X_train = X_train[continuous_cols]\n",
        "categorical_X_train = X_train.loc[:, ~X_train.columns.isin(continuous_cols)]\n",
        "\n",
        "continuous_X_valid = X_valid[continuous_cols]\n",
        "categorical_X_valid = X_valid.loc[:, ~X_valid.columns.isin(continuous_cols)]\n",
        "\n",
        "continuous_X_test = X_test[continuous_cols]\n",
        "categorical_X_test = X_test.loc[:, ~X_test.columns.isin(continuous_cols)]\n",
        "\n",
        "categorical_encoder = OneHotEncoder(sparse_output=False, handle_unknown='ignore')\n",
        "continuous_scaler = StandardScaler() #MinMaxScaler(feature_range=(-1, 1))\n",
        "\n",
        "categorical_encoder.fit(categorical_X_train)\n",
        "continuous_scaler.fit(continuous_X_train)\n",
        "\n",
        "continuous_X_train = continuous_scaler.transform(continuous_X_train)\n",
        "continuous_X_valid = continuous_scaler.transform(continuous_X_valid)\n",
        "continuous_X_test = continuous_scaler.transform(continuous_X_test)\n",
        "\n",
        "categorical_X_train = categorical_encoder.transform(categorical_X_train)\n",
        "categorical_X_valid = categorical_encoder.transform(categorical_X_valid)\n",
        "categorical_X_test = categorical_encoder.transform(categorical_X_test)\n",
        "\n",
        "X_train = np.concatenate([continuous_X_train, categorical_X_train], axis=1)\n",
        "X_valid = np.concatenate([continuous_X_valid, categorical_X_valid], axis=1)\n",
        "X_test = np.concatenate([continuous_X_test, categorical_X_test], axis=1)\n",
        "\n",
        "X_train.shape, y_train.shape"
      ]
    },
    {
      "cell_type": "markdown",
      "metadata": {
        "editable": true,
        "tags": [],
        "id": "DGkL5FnBZ3oK"
      },
      "source": [
        "Uwaga co do typów - PyTorchu wszystko w sieci neuronowej musi być typu `float32`. W szczególności trzeba uważać na konwersje z Numpy'a, który używa domyślnie typu `float64`. Może ci się przydać metoda `.float()`.\n",
        "\n",
        "Uwaga co do kształtów wyjścia - wejścia do `nn.BCELoss` muszą być tego samego kształtu. Może ci się przydać metoda `.squeeze()` lub `.unsqueeze()`."
      ]
    },
    {
      "cell_type": "code",
      "execution_count": 70,
      "metadata": {
        "id": "qfRA3xEoLAs1"
      },
      "outputs": [],
      "source": [
        "X_train = torch.from_numpy(X_train).float()\n",
        "y_train = torch.from_numpy(y_train).float().unsqueeze(-1)\n",
        "\n",
        "X_valid = torch.from_numpy(X_valid).float()\n",
        "y_valid = torch.from_numpy(y_valid).float().unsqueeze(-1)\n",
        "\n",
        "X_test = torch.from_numpy(X_test).float()\n",
        "y_test = torch.from_numpy(y_test).float().unsqueeze(-1)"
      ]
    },
    {
      "cell_type": "markdown",
      "metadata": {
        "id": "nvjoYG7cZ3oK"
      },
      "source": [
        "Podobnie jak w laboratorium 2, mamy tu do czynienia z klasyfikacją niezbalansowaną:"
      ]
    },
    {
      "cell_type": "code",
      "execution_count": 71,
      "metadata": {
        "colab": {
          "base_uri": "https://localhost:8080/",
          "height": 452
        },
        "id": "DswyacxIZ3oK",
        "outputId": "a5187dd2-1d15-4317-d0a4-fb2c3d368660"
      },
      "outputs": [
        {
          "output_type": "display_data",
          "data": {
            "text/plain": [
              "<Figure size 640x480 with 1 Axes>"
            ],
            "image/png": "[encoded data removed]"
          },
          "metadata": {}
        }
      ],
      "source": [
        "import matplotlib.pyplot as plt\n",
        "\n",
        "y_pos_perc = 100 * y_train.sum().item() / len(y_train)\n",
        "y_neg_perc = 100 - y_pos_perc\n",
        "\n",
        "plt.title(\"Class percentages\")\n",
        "plt.bar([\"<50k\", \">=50k\"], [y_neg_perc, y_pos_perc])\n",
        "plt.show()"
      ]
    },
    {
      "cell_type": "markdown",
      "metadata": {
        "id": "uo9AQzXBZ3oL"
      },
      "source": [
        "W związku z powyższym będziemy używać odpowiednich metryk, czyli AUROC, precyzji i czułości."
      ]
    },
    {
      "cell_type": "markdown",
      "metadata": {
        "id": "XLexWff-LAs0",
        "tags": [
          "ex"
        ]
      },
      "source": [
        "### Zadanie 3 (1.0 punkt)\n",
        "\n",
        "Zaimplementuj regresję logistyczną dla tego zbioru danych, używając PyTorcha. Dane wejściowe zostały dla ciebie przygotowane w komórkach poniżej.\n",
        "\n",
        "Sama sieć składa się z 2 elementów:\n",
        "- warstwa liniowa `nn.Linear`, przekształcająca wektor wejściowy na 1 wyjście - logit\n",
        "- aktywacja sigmoidalna `nn.Sigmoid`, przekształcająca logit na prawdopodobieństwo klasy pozytywnej\n",
        "\n",
        "Użyj binarnej entropii krzyżowej `nn.BCELoss` jako funkcji kosztu. Użyj optymalizatora SGD ze stałą uczącą `1e-3`. Trenuj przez 3000 epok. Pamiętaj, aby przekazać do optymalizatora `torch.optim.SGD` parametry sieci (metoda `.parameters()`). Dopisz logowanie kosztu raz na 100 epok."
      ]
    },
    {
      "cell_type": "code",
      "execution_count": 72,
      "metadata": {
        "colab": {
          "base_uri": "https://localhost:8080/"
        },
        "id": "NbABKz5-LAs2",
        "outputId": "6218cb80-f491-4797-bc2c-55d75c95d0d1",
        "scrolled": true,
        "tags": [
          "ex"
        ]
      },
      "outputs": [
        {
          "output_type": "stream",
          "name": "stdout",
          "text": [
            "Epoch 100/3000, Loss: 0.6567\n",
            "Epoch 200/3000, Loss: 0.6291\n",
            "Epoch 300/3000, Loss: 0.6059\n",
            "Epoch 400/3000, Loss: 0.5864\n",
            "Epoch 500/3000, Loss: 0.5697\n",
            "Epoch 600/3000, Loss: 0.5554\n",
            "Epoch 700/3000, Loss: 0.5430\n",
            "Epoch 800/3000, Loss: 0.5321\n",
            "Epoch 900/3000, Loss: 0.5225\n",
            "Epoch 1000/3000, Loss: 0.5140\n",
            "Epoch 1100/3000, Loss: 0.5063\n",
            "Epoch 1200/3000, Loss: 0.4994\n",
            "Epoch 1300/3000, Loss: 0.4932\n",
            "Epoch 1400/3000, Loss: 0.4874\n",
            "Epoch 1500/3000, Loss: 0.4822\n",
            "Epoch 1600/3000, Loss: 0.4773\n",
            "Epoch 1700/3000, Loss: 0.4728\n",
            "Epoch 1800/3000, Loss: 0.4686\n",
            "Epoch 1900/3000, Loss: 0.4646\n",
            "Epoch 2000/3000, Loss: 0.4609\n",
            "Epoch 2100/3000, Loss: 0.4575\n",
            "Epoch 2200/3000, Loss: 0.4542\n",
            "Epoch 2300/3000, Loss: 0.4511\n",
            "Epoch 2400/3000, Loss: 0.4482\n",
            "Epoch 2500/3000, Loss: 0.4454\n",
            "Epoch 2600/3000, Loss: 0.4427\n",
            "Epoch 2700/3000, Loss: 0.4402\n",
            "Epoch 2800/3000, Loss: 0.4378\n",
            "Epoch 2900/3000, Loss: 0.4355\n",
            "Epoch 3000/3000, Loss: 0.4333\n"
          ]
        }
      ],
      "source": [
        "learning_rate = 1e-3\n",
        "\n",
        "model = nn.Linear(X_train.shape[1], 1)\n",
        "activation = nn.Sigmoid()\n",
        "optimizer = optim.SGD(model.parameters(), lr=1e-3)\n",
        "loss_fn = nn.BCELoss()\n",
        "\n",
        "epochs = 3000\n",
        "for epoch in range(1, epochs + 1):\n",
        "    logits = model(X_train)\n",
        "    predictions = activation(logits)\n",
        "    loss = loss_fn(predictions, y_train)\n",
        "\n",
        "    optimizer.zero_grad()\n",
        "    loss.backward()\n",
        "    optimizer.step()\n",
        "\n",
        "    if epoch % 100 == 0:\n",
        "        print(f\"Epoch {epoch}/{epochs}, Loss: {loss.item():.4f}\")\n"
      ]
    },
    {
      "cell_type": "markdown",
      "metadata": {
        "tags": [
          "ex"
        ],
        "id": "5hJ9heHYZ3oL"
      },
      "source": [
        "Teraz trzeba sprawdzić, jak poszło naszej sieci. W PyTorchu sieć pracuje zawsze w jednym z dwóch trybów: treningowym lub ewaluacyjnym (predykcyjnym). Ten drugi wyłącza niektóre mechanizmy, które są używane tylko podczas treningu, w szczególności regularyzację dropout. Do przełączania służą metody modelu `.train()` i `.eval()`.\n",
        "\n",
        "Dodatkowo podczas liczenia predykcji dobrze jest wyłączyć liczenie gradientów, bo nie będą potrzebne, a oszczędza to czas i pamięć. Używa się do tego menadżera kontekstu `with torch.no_grad():`."
      ]
    },
    {
      "cell_type": "code",
      "execution_count": 73,
      "metadata": {
        "colab": {
          "base_uri": "https://localhost:8080/"
        },
        "id": "zH37zDX4LAs2",
        "outputId": "e575ac27-62b6-4809-dd13-c070b5879df0",
        "scrolled": true,
        "tags": [
          "ex"
        ]
      },
      "outputs": [
        {
          "output_type": "stream",
          "name": "stdout",
          "text": [
            "AUROC: 85.93%\n"
          ]
        }
      ],
      "source": [
        "from sklearn.metrics import precision_recall_curve, precision_recall_fscore_support, roc_auc_score\n",
        "\n",
        "\n",
        "model.eval()\n",
        "with torch.no_grad():\n",
        "    y_score = activation(model(X_test))\n",
        "\n",
        "auroc = roc_auc_score(y_test, y_score)\n",
        "print(f\"AUROC: {auroc:.2%}\")"
      ]
    },
    {
      "cell_type": "code",
      "execution_count": 74,
      "metadata": {
        "tags": [
          "ex"
        ],
        "colab": {
          "base_uri": "https://localhost:8080/"
        },
        "id": "j8BaplHrZ3oM",
        "outputId": "1992ec00-65de-4ec6-9ee9-e06134ddf2f2"
      },
      "outputs": [
        {
          "output_type": "stream",
          "name": "stdout",
          "text": [
            "Solution is correct!\n"
          ]
        }
      ],
      "source": [
        "assert isinstance(model, nn.Linear)\n",
        "assert isinstance(activation, nn.Sigmoid)\n",
        "assert isinstance(optimizer, torch.optim.SGD)\n",
        "assert isinstance(loss_fn, torch.nn.BCELoss)\n",
        "\n",
        "assert model.out_features == 1\n",
        "assert optimizer.param_groups[0][\"lr\"] == 1e-3\n",
        "\n",
        "assert 0.0 < loss.item() < 0.5\n",
        "assert 0.8 < auroc < 0.9\n",
        "\n",
        "print(\"Solution is correct!\")"
      ]
    },
    {
      "cell_type": "markdown",
      "metadata": {
        "id": "198W-EdlZ3oM"
      },
      "source": [
        "Jest to całkiem dobry wynik, a może być jeszcze lepszy. Sprawdźmy dla pewności jeszcze inne metryki: precyzję, recall oraz F1-score. Dodatkowo narysujemy krzywą precision-recall, czyli jak zmieniają się te metryki w zależności od przyjętego progu (threshold) prawdopodobieństwa, powyżej którego przyjmujemy klasę pozytywną. Taką krzywą należy rysować na zbiorze walidacyjnym, bo później chcemy wykorzystać tę informację do doboru progu, a nie chcemy mieć wycieku danych testowych (data leakage).\n",
        "\n",
        "Poniżej zaimplementowano także funkcję `get_optimal_threshold()`, która sprawdza, dla którego progu uzyskujemy maksymalny F1-score, i zwraca indeks oraz wartość optymalnego progu. Przyda ci się ona w dalszej części laboratorium."
      ]
    },
    {
      "cell_type": "code",
      "execution_count": 75,
      "metadata": {
        "id": "jlDD_tckZ3oN"
      },
      "outputs": [],
      "source": [
        "from sklearn.metrics import PrecisionRecallDisplay\n",
        "\n",
        "\n",
        "def get_optimal_threshold(\n",
        "    precisions: np.array,\n",
        "    recalls: np.array,\n",
        "    thresholds: np.array\n",
        ") -> Tuple[int, float]:\n",
        "\n",
        "    numerator = 2 * precisions * recalls\n",
        "    denominator = precisions + recalls\n",
        "    f1_scores = np.divide(numerator, denominator, out=np.zeros_like(numerator), where=denominator != 0)\n",
        "\n",
        "    optimal_idx = np.argmax(f1_scores)\n",
        "    optimal_threshold = thresholds[optimal_idx]\n",
        "\n",
        "    return optimal_idx, optimal_threshold\n",
        "\n",
        "\n",
        "def plot_precision_recall_curve(y_true, y_pred_score) -> None:\n",
        "    precisions, recalls, thresholds = precision_recall_curve(y_true, y_pred_score)\n",
        "    optimal_idx, optimal_threshold = get_optimal_threshold(precisions, recalls, thresholds)\n",
        "\n",
        "    disp = PrecisionRecallDisplay(precisions, recalls)\n",
        "    disp.plot()\n",
        "    plt.title(f\"Precision-recall curve (opt. thresh.: {optimal_threshold:.4f})\")\n",
        "    plt.axvline(recalls[optimal_idx], color=\"green\", linestyle=\"-.\")\n",
        "    plt.axhline(precisions[optimal_idx], color=\"green\", linestyle=\"-.\")\n",
        "    plt.show()\n",
        "\n"
      ]
    },
    {
      "cell_type": "code",
      "execution_count": 76,
      "metadata": {
        "id": "XMTAVo2xZ3oN",
        "colab": {
          "base_uri": "https://localhost:8080/",
          "height": 472
        },
        "outputId": "12ced0af-1180-4323-9303-2be4221644fc"
      },
      "outputs": [
        {
          "output_type": "display_data",
          "data": {
            "text/plain": [
              "<Figure size 640x480 with 1 Axes>"
            ],
            "image/png": "[encoded data removed]"
          },
          "metadata": {}
        }
      ],
      "source": [
        "model.eval()\n",
        "with torch.no_grad():\n",
        "    y_pred_valid_score = activation(model(X_valid))\n",
        "\n",
        "plot_precision_recall_curve(y_valid, y_pred_valid_score)"
      ]
    },
    {
      "cell_type": "markdown",
      "metadata": {
        "id": "vfQPIUQ_LAs2"
      },
      "source": [
        "Jak widać, chociaż AUROC jest wysokie, to dla optymalnego F1-score recall nie jest zbyt wysoki, a precyzja jest już dość niska. Być może wynik uda się poprawić, używając modelu o większej pojemności - pełnej, głębokiej sieci neuronowej."
      ]
    },
    {
      "cell_type": "markdown",
      "metadata": {
        "id": "ziDsVOlUZ3oN"
      },
      "source": [
        "## Sieci neuronowe"
      ]
    },
    {
      "cell_type": "markdown",
      "metadata": {
        "id": "YP298w6Cq7T6"
      },
      "source": [
        "Wszystko zaczęło się od inspirowanych biologią [sztucznych neuronów](https://en.wikipedia.org/wiki/Artificial_neuron), których próbowano użyć do symulacji mózgu. Naukowcy szybko odeszli od tego podejścia (sam problem modelowania okazał się też znacznie trudniejszy, niż sądzono), zamiast tego używając neuronów jako jednostek reprezentującą dowolną funkcję parametryczną $f(x, \\Theta)$. Każdy neuron jest zatem bardzo elastyczny, bo jedyne wymagania to funkcja różniczkowalna, a mamy do tego wektor parametrów $\\Theta$.\n",
        "\n",
        "W praktyce najczęściej można spotkać się z kilkoma rodzinami sieci neuronowych:\n",
        "1. Perceptrony wielowarstwowe (*MultiLayer Perceptron*, MLP) - najbardziej podobne do powyższego opisu, niezbędne do klasyfikacji i regresji\n",
        "2. Konwolucyjne (*Convolutional Neural Networks*, CNNs) - do przetwarzania danych z zależnościami przestrzennymi, np. obrazów czy dźwięku\n",
        "3. Rekurencyjne (*Recurrent Neural Networks*, RNNs) - do przetwarzania danych z zależnościami sekwencyjnymi, np. szeregi czasowe, oraz kiedyś do języka naturalnego\n",
        "4. Transformacyjne (*Transformers*), oparte o mechanizm atencji (*attention*) - do przetwarzania języka naturalnego (NLP), z którego wyparły RNNs, a coraz częściej także do wszelkich innych danych, np. obrazów, dźwięku\n",
        "5. Grafowe (*Graph Neural Networks*, GNNS) - do przetwarzania grafów\n",
        "\n",
        "Na tym laboratorium skupimy się na najprostszej architekturze, czyli MLP. Jest ona powszechnie łączona z wszelkimi innymi architekturami, bo pozwala dokonywać klasyfikacji i regresji. Przykładowo, klasyfikacja obrazów to zwykle CNN + MLP, klasyfikacja tekstów to transformer + MLP, a regresja na grafach to GNN + MLP.\n",
        "\n",
        "Dodatkowo, pomimo prostoty MLP są bardzo potężne - udowodniono, że perceptrony (ich powszechna nazwa) są [uniwersalnym aproksymatorem](https://www.sciencedirect.com/science/article/abs/pii/0893608089900208), będącym w stanie przybliżyć dowolną funkcję z odpowiednio małym błędem, zakładając wystarczającą wielkość warstw sieci. Szczególne ich wersje potrafią nawet [reprezentować drzewa decyzyjne](https://www.youtube.com/watch?v=_okxGdHM5b8).\n",
        "\n",
        "Dla zainteresowanych polecamy [doskonałą książkę \"Dive into Deep Learning\", z implementacjami w PyTorchu](https://d2l.ai/chapter_multilayer-perceptrons/index.html), [klasyczną książkę \"Deep Learning Book\"](https://www.deeplearningbook.org/contents/mlp.html), oraz [ten filmik](https://www.youtube.com/watch?v=BFHrIxKcLjA), jeśli zastanawiałeś/-aś się, czemu używamy deep learning, a nie naprzykład (wide?) learning. (aka. czemu staramy się budować głębokie sieci, a nie płytkie za to szerokie)"
      ]
    },
    {
      "cell_type": "markdown",
      "metadata": {
        "id": "S_ZjoGBU5upj"
      },
      "source": [
        "### Sieci MLP\n",
        "\n",
        "Dla przypomnienia, na wejściu mamy punkty ze zbioru treningowego, czyli $d$-wymiarowe wektory. W klasyfikacji chcemy znaleźć granicę decyzyjną, czyli krzywą, która oddzieli od siebie klasy. W wejściowej przestrzeni może być to trudne, bo chmury punktów z poszczególnych klas mogą być ze sobą dość pomieszane. Pamiętajmy też, że regresja logistyczna jest klasyfikatorem liniowym, czyli w danej przestrzeni potrafi oddzielić punkty tylko linią prostą.\n",
        "\n",
        "Sieć MLP składa się z warstw. Każda z nich dokonuje nieliniowego przekształcenia przestrzeni (można o tym myśleć jak o składaniu przestrzeni jakąś prostą/łamaną), tak, aby w finalnej przestrzeni nasze punkty były możliwie liniowo separowalne. Wtedy ostatnia warstwa z sigmoidą będzie potrafiła je rozdzielić od siebie.\n",
        "\n",
        "![1_x-3NGQv0pRIab8xDT-f_Hg.png](attachment:1_x-3NGQv0pRIab8xDT-f_Hg.png)\n",
        "\n",
        "Poszczególne neurony składają się z iloczynu skalarnego wejść z wagami neuronu, oraz nieliniowej funkcji aktywacji. W PyTorchu są to osobne obiekty - `nn.Linear` oraz np. `nn.Sigmoid`. Funkcja aktywacji przyjmuje wynik iloczynu skalarnego i przekształca go, aby sprawdzić, jak mocno reaguje neuron na dane wejście. Musi być nieliniowa z dwóch powodów. Po pierwsze, tylko nieliniowe przekształcenia są na tyle potężne, żeby umożliwić liniową separację danych w ostatniej warstwie. Po drugie, liniowe przekształcenia zwyczajnie nie działają. Aby zrozumieć czemu, trzeba zobaczyć, co matematycznie oznacza sieć MLP.\n",
        "\n",
        "![perceptron](https://www.saedsayad.com/images/Perceptron_bkp_1.png)\n",
        "\n",
        "Zapisane matematycznie MLP to:\n",
        "\n",
        "$\\large\n",
        "h_1 = f_1(x) \\\\\n",
        "h_2 = f_2(h_1) \\\\\n",
        "h_3 = f_3(h_2) \\\\\n",
        "... \\\\\n",
        "h_n = f_n(h_{n-1})\n",
        "$\n",
        "\n",
        "gdzie $x$ to wejście $f_i$ to funkcja aktywacji $i$-tej warstwy, a $h_i$ to wyjście $i$-tej warstwy, nazywane **ukrytą reprezentacją (hidden representation)**, lub *latent representation*. Nazwa bierze się z tego, że w środku sieci wyciągamy cechy i wzorce w danych, które nie są widoczne na pierwszy rzut oka na wejściu.\n",
        "\n",
        "Załóżmy, że uczymy się na danych $x$ o jednym wymiarze (dla uproszczenia wzorów) oraz nie mamy funkcji aktywacji, czyli wykorzystujemy tak naprawdę aktywację liniową $f(x) = x$. Zobaczmy jak będą wyglądać dane przechodząc przez kolejne warstwy:\n",
        "\n",
        "$\\large\n",
        "h_1 = f_1(xw_1) = xw_1 \\\\\n",
        "h_2 = f_2(h_1w_2) = xw_1w_2 \\\\\n",
        "... \\\\\n",
        "h_n = f_n(h_{n-1}w_n) = xw_1w_2...w_n\n",
        "$\n",
        "\n",
        "gdzie $w_i$ to jest parametr $i$-tej warstwy sieci, $x$ to są dane (w naszym przypadku jedna liczba) wejściowa, a $h_i$ to wyjście $i$-tej warstwy.\n",
        "\n",
        "Jak widać, taka sieć o $n$ warstwach jest równoważna sieci o jednej warstwie z parametrem $w = w_1w_2...w_n$. Wynika to z tego, że złożenie funkcji liniowych jest także funkcją liniową - patrz notatki z algebry :)\n",
        "\n",
        "Jeżeli natomiast użyjemy nieliniowej funkcji aktywacji, często oznaczanej jako $\\sigma$, to wszystko będzie działać. Co ważne, ostatnia warstwa, dająca wyjście sieci, ma zwykle inną aktywację od warstw wewnątrz sieci, bo też ma inne zadanie - zwrócić wartość dla klasyfikacji lub regresji. Na wyjściu korzysta się z funkcji liniowej (regresja), sigmoidalnej (klasyfikacja binarna) lub softmax (klasyfikacja wieloklasowa).\n",
        "\n",
        "Wewnątrz sieci używano kiedyś sigmoidy oraz tangensa hiperbolicznego `tanh`, ale okazało się to nieefektywne przy uczeniu głębokich sieci o wielu warstwach. Nowoczesne sieci korzystają zwykle z funkcji ReLU (*rectified linear unit*), która jest zaskakująco prosta: $ReLU(x) = \\max(0, x)$. Okazało się, że bardzo dobrze nadaje się do treningu nawet bardzo głębokich sieci neuronowych. Nowsze funkcje aktywacji są głównie modyfikacjami ReLU.\n",
        "\n",
        "![relu](https://www.nomidl.com/wp-content/uploads/2022/04/image-10.png)"
      ]
    },
    {
      "cell_type": "markdown",
      "metadata": {
        "id": "faJOUqawZ3oO"
      },
      "source": [
        "### MLP w PyTorchu\n",
        "\n",
        "Warstwę neuronów w MLP nazywa się warstwą gęstą (*dense layer*) lub warstwą w pełni połączoną (*fully-connected layer*), i taki opis oznacza zwykle same neurony oraz funkcję aktywacji. PyTorch, jak już widzieliśmy, definiuje osobno transformację liniową oraz aktywację, a więc jedna warstwa składa się de facto z 2 obiektów, wywoływanych jeden po drugim. Inne frameworki, szczególnie wysokopoziomowe (np. Keras) łączą to często w jeden obiekt.\n",
        "\n",
        "MLP składa się zatem z sekwencji obiektów, które potem wywołuje się jeden po drugim, gdzie wyjście poprzedniego to wejście kolejnego. Ale nie można tutaj używać Pythonowych list! Z perspektywy PyTorcha to wtedy niezależne obiekty i nie zostanie wtedy przekazany między nimi gradient. Trzeba tutaj skorzystać z `nn.Sequential`, aby tworzyć taki pipeline.\n",
        "\n",
        "Rozmiary wejścia i wyjścia dla każdej warstwy trzeba w PyTorchu podawać explicite. Jest to po pierwsze edukacyjne, a po drugie często ułatwia wnioskowanie o działaniu sieci oraz jej debugowanie - mamy jasno podane, czego oczekujemy. Niektóre frameworki (np. Keras) obliczają to automatycznie.\n",
        "\n",
        "Co ważne, ostatnia warstwa zwykle nie ma funkcji aktywacji. Wynika to z tego, że obliczanie wielu funkcji kosztu (np. entropii krzyżowej) na aktywacjach jest często niestabilne numerycznie. Z tego powodu PyTorch oferuje funkcje kosztu zawierające w środku aktywację dla ostatniej warstwy, a ich implementacje są stabilne numerycznie. Przykładowo, `nn.BCELoss` przyjmuje wejście z zaaplikowanymi już aktywacjami, ale może skutkować under/overflow, natomiast `nn.BCEWithLogitsLoss` przyjmuje wejście bez aktywacji, a w środku ma specjalną implementację łączącą binarną entropię krzyżową z aktywacją sigmoidalną. Oczywiście w związku z tym aby dokonać potem predykcji w praktyce, trzeba pamiętać o użyciu funkcji aktywacji. Często korzysta się przy tym z funkcji z modułu `torch.nn.functional`, które są w tym wypadku nieco wygodniejsze od klas wywoływalnych z `torch.nn`.\n",
        "\n",
        "Całe sieci w PyTorchu tworzy się jako klasy dziedziczące po `nn.Module`. Co ważne, obiekty, z których tworzymy sieć, np. `nn.Linear`, także dziedziczą po tej klasie. Pozwala to na bardzo modułową budowę kodu, zgodną z zasadami OOP. W konstruktorze najpierw trzeba zawsze wywołać konstruktor rodzica - `super().__init__()`, a później tworzy się potrzebne obiekty i zapisuje jako atrybuty. Każdy atrybut dziedziczący po `nn.Module` lub `nn.Parameter` jest uważany za taki, który zawiera parametry sieci, a więc przy wywołaniu metody `parameters()` - parametry z tych atrybutów pojawią się w liście wszystkich parametrów. Musimy też zdefiniować metodę `forward()`, która przyjmuje tensor `x` i zwraca wynik. Typowo ta metoda po prostu używa obiektów zdefiniowanych w konstruktorze.\n",
        "\n",
        "\n",
        "**UWAGA: nigdy w normalnych warunkach się nie woła metody `forward` ręcznie**"
      ]
    },
    {
      "cell_type": "markdown",
      "metadata": {
        "editable": true,
        "id": "J8niDgExAMDO",
        "tags": [
          "ex"
        ]
      },
      "source": [
        "### Zadanie 4 (0.5 punktu)\n",
        "\n",
        "Uzupełnij implementację 3-warstwowej sieci MLP. Użyj rozmiarów:\n",
        "* pierwsza warstwa: input_size x 256\n",
        "* druga warstwa: 256 x 128\n",
        "* trzecia warstwa: 128 x 1\n",
        "\n",
        "Użyj funkcji aktywacji ReLU.\n",
        "\n",
        "Przydatne klasy:\n",
        "- `nn.Sequential`\n",
        "- `nn.Linear`\n",
        "- `nn.ReLU`"
      ]
    },
    {
      "cell_type": "code",
      "execution_count": 77,
      "metadata": {
        "tags": [
          "ex"
        ],
        "id": "s4X_4CoAZ3oP"
      },
      "outputs": [],
      "source": [
        "from torch import sigmoid\n",
        "\n",
        "\n",
        "class MLP(nn.Module):\n",
        "    def __init__(self, input_size: int):\n",
        "        super().__init__()\n",
        "        self.model = nn.Sequential(\n",
        "            nn.Linear(input_size, 256),\n",
        "            nn.ReLU(),\n",
        "            nn.Linear(256, 128),\n",
        "            nn.ReLU(),\n",
        "            nn.Linear(128, 1)\n",
        "        )\n",
        "        self.sigmoid = nn.Sigmoid()\n",
        "\n",
        "    def forward(self, x):\n",
        "        return self.model(x)\n",
        "\n",
        "    def predict_proba(self, x):\n",
        "        return sigmoid(self(x))\n",
        "\n",
        "    def predict(self, x, threshold: float = 0.5):\n",
        "        y_pred_score = self.predict_proba(x)\n",
        "        return (y_pred_score > threshold).to(torch.int32)\n",
        "\n"
      ]
    },
    {
      "cell_type": "code",
      "execution_count": 78,
      "metadata": {
        "editable": true,
        "tags": [
          "ex"
        ],
        "id": "T4c3SplCZ3oP",
        "colab": {
          "base_uri": "https://localhost:8080/"
        },
        "outputId": "d8f01bfa-69f7-4e05-a2e7-d6065eeedc2c"
      },
      "outputs": [
        {
          "output_type": "stream",
          "name": "stdout",
          "text": [
            "Epoch 0 train loss: 0.6863\n",
            "Epoch 200 train loss: 0.6639\n",
            "Epoch 400 train loss: 0.6450\n",
            "Epoch 600 train loss: 0.6288\n",
            "Epoch 800 train loss: 0.6146\n",
            "Epoch 1000 train loss: 0.6020\n",
            "Epoch 1200 train loss: 0.5909\n",
            "Epoch 1400 train loss: 0.5810\n",
            "Epoch 1600 train loss: 0.5721\n",
            "Epoch 1800 train loss: 0.5642\n",
            "final loss: 0.5571\n"
          ]
        }
      ],
      "source": [
        "# 43s\n",
        "learning_rate = 1e-3\n",
        "model = MLP(input_size=X_train.shape[1])\n",
        "optimizer = torch.optim.SGD(model.parameters(), lr=learning_rate)\n",
        "\n",
        "# note that we are using loss function with sigmoid built in\n",
        "loss_fn = torch.nn.BCEWithLogitsLoss()\n",
        "num_epochs = 2000\n",
        "evaluation_steps = 200\n",
        "\n",
        "for i in range(num_epochs):\n",
        "    y_pred = model(X_train)\n",
        "    loss = loss_fn(y_pred, y_train)\n",
        "    loss.backward()\n",
        "\n",
        "    optimizer.step()\n",
        "    optimizer.zero_grad()\n",
        "\n",
        "    if i % evaluation_steps == 0:\n",
        "        print(f\"Epoch {i} train loss: {loss.item():.4f}\")\n",
        "\n",
        "print(f\"final loss: {loss.item():.4f}\")"
      ]
    },
    {
      "cell_type": "code",
      "execution_count": 79,
      "metadata": {
        "id": "LP5GSup24dXU",
        "tags": [
          "ex"
        ],
        "colab": {
          "base_uri": "https://localhost:8080/",
          "height": 489
        },
        "outputId": "431b5d87-6841-4b4b-bffd-df70c5b26978"
      },
      "outputs": [
        {
          "output_type": "stream",
          "name": "stdout",
          "text": [
            "AUROC: 76.80%\n"
          ]
        },
        {
          "output_type": "display_data",
          "data": {
            "text/plain": [
              "<Figure size 640x480 with 1 Axes>"
            ],
            "image/png": "[encoded data removed]"
          },
          "metadata": {}
        }
      ],
      "source": [
        "model.eval()\n",
        "with torch.no_grad():\n",
        "    # positive class probabilities\n",
        "    y_pred_valid_score = model.predict_proba(X_valid)\n",
        "    y_pred_test_score = model.predict_proba(X_test)\n",
        "\n",
        "auroc = roc_auc_score(y_test, y_pred_test_score)\n",
        "print(f\"AUROC: {auroc:.2%}\")\n",
        "\n",
        "plot_precision_recall_curve(y_valid, y_pred_valid_score)"
      ]
    },
    {
      "cell_type": "code",
      "execution_count": 80,
      "metadata": {
        "tags": [
          "ex"
        ],
        "id": "4yeUcnYxZ3oQ",
        "colab": {
          "base_uri": "https://localhost:8080/"
        },
        "outputId": "95532701-5239-4912-9e41-87d211c424ab"
      },
      "outputs": [
        {
          "output_type": "stream",
          "name": "stdout",
          "text": [
            "Solution is correct!\n"
          ]
        }
      ],
      "source": [
        "assert any(\n",
        "    isinstance(module, nn.Linear) and module.in_features == X_train.shape[1] and module.out_features == 256\n",
        "    for module in model.modules()\n",
        ")\n",
        "\n",
        "assert any(\n",
        "    isinstance(module, nn.Linear) and module.in_features == 256 and module.out_features == 128\n",
        "    for module in model.modules()\n",
        ")\n",
        "\n",
        "assert any(\n",
        "    isinstance(module, nn.Linear) and module.in_features == 128 and module.out_features == 1\n",
        "    for module in model.modules()\n",
        ")\n",
        "\n",
        "assert any(isinstance(module, nn.ReLU) for module in model.modules())\n",
        "\n",
        "assert 0.5 < loss.item() < 0.6\n",
        "assert 0.6 < auroc < 0.9\n",
        "\n",
        "print(\"Solution is correct!\")"
      ]
    },
    {
      "cell_type": "markdown",
      "metadata": {
        "id": "hfmxceyEZ3oQ"
      },
      "source": [
        "AUROC jest podobne, a precision i recall spadły - wypadamy wręcz gorzej od regresji liniowej! Skoro dodaliśmy więcej warstw, to może pojemność modelu jest teraz za duża i trzeba by go zregularyzować?\n",
        "\n",
        "Sieci neuronowe bardzo łatwo przeuczają, bo są bardzo elastycznymi i pojemnymi modelami. Dlatego mają wiele różnych rodzajów regularyzacji, których używa się razem. Co ciekawe, udowodniono eksperymentalnie, że zbyt duże sieci z mocną regularyzacją działają lepiej niż mniejsze sieci, odpowiedniego rozmiaru, za to ze słabszą regularyzacją.\n",
        "\n",
        "Pierwszy rodzaj regularyzacji to znana nam już **regularyzacja L2**, czyli penalizacja zbyt dużych wag. W kontekście sieci neuronowych nazywa się też ją czasem *weight decay*. W PyTorchu dodaje się ją jako argument do optymalizatora.\n",
        "\n",
        "Regularyzacja specyficzna dla sieci neuronowych to **dropout**. Polega on na losowym wyłączaniu zadanego procenta neuronów podczas treningu. Pomimo prostoty okazała się niesamowicie skuteczna, szczególnie w treningu bardzo głębokich sieci. Co ważne, jest to mechanizm używany tylko podczas treningu - w trakcie predykcji za pomocą sieci wyłącza się ten mechanizm i dokonuje normalnie predykcji całą siecią. Podejście to można potraktować jak ensemble learning, podobny do lasów losowych - wyłączając losowe części sieci, w każdej iteracji trenujemy nieco inną sieć, co odpowiada uśrednianiu predykcji różnych algorytmów. Typowo stosuje się dość mocny dropout, rzędu 25-50%. W PyTorchu implementuje go warstwa `nn.Dropout`, aplikowana zazwyczaj po funkcji aktywacji.\n",
        "\n",
        "Ostatni, a być może najważniejszy rodzaj regularyzacji to **wczesny stop (early stopping)**. W każdym kroku mocniej dostosowujemy terenową sieć do zbioru treningowego, a więc zbyt długi trening będzie skutkował przeuczeniem. W metodzie wczesnego stopu używamy wydzielonego zbioru walidacyjnego (pojedynczego, metoda holdout), sprawdzając co określoną liczbę epok wynik na tym zbiorze. Jeżeli nie uzyskamy wyniku lepszego od najlepszego dotychczas uzyskanego przez określoną liczbę epok, to przerywamy trening. Okres, przez który czekamy na uzyskanie lepszego wyniku, to cierpliwość (*patience*). Im mniejsze, tym mocniejszy jest ten rodzaj regularyzacji, ale trzeba z tym uważać, bo łatwo jest przesadzić i zbyt szybko przerywać trening. Niektóre implementacje uwzględniają tzw. *grace period*, czyli gwarantowaną minimalną liczbę epok, przez którą będziemy trenować sieć, niezależnie od wybranej cierpliwości.\n",
        "\n",
        "Dodatkowo ryzyko przeuczenia można zmniejszyć, używając mniejszej stałej uczącej."
      ]
    },
    {
      "cell_type": "markdown",
      "metadata": {
        "tags": [
          "ex"
        ],
        "id": "DpgaBCtVZ3oQ"
      },
      "source": [
        "### Zadanie 5 (1.5 punktu)\n",
        "\n",
        "Zaimplementuj funkcję `evaluate_model()`, obliczającą metryki na zbiorze testowym:\n",
        "- wartość funkcji kosztu (loss)\n",
        "- AUROC\n",
        "- optymalny próg\n",
        "- F1-score przy optymalnym progu\n",
        "- precyzję oraz recall dla optymalnego progu\n",
        "\n",
        "Jeżeli podana jest wartość argumentu `threshold`, to użyj jej do zamiany prawdopodobieństw na twarde predykcje. W przeciwnym razie użyj funkcji `get_optimal_threshold` i oblicz optymalną wartość progu.\n",
        "\n",
        "Pamiętaj o przełączeniu modelu w tryb ewaluacji oraz o wyłączeniu obliczania gradientów."
      ]
    },
    {
      "cell_type": "code",
      "execution_count": 110,
      "metadata": {
        "tags": [
          "ex"
        ],
        "id": "xM31K9yQZ3oR"
      },
      "outputs": [],
      "source": [
        "from typing import Optional\n",
        "\n",
        "from sklearn.metrics import precision_score, recall_score, f1_score\n",
        "from torch import sigmoid\n",
        "\n",
        "\n",
        "def evaluate_model(\n",
        "    model: nn.Module,\n",
        "    X: torch.Tensor,\n",
        "    y: torch.Tensor,\n",
        "    loss_fn: nn.Module,\n",
        "    threshold: Optional[float] = None\n",
        ") -> Dict[str, float]:\n",
        "    model.eval()\n",
        "\n",
        "    with torch.no_grad():\n",
        "      y_pred_score = model.predict_proba(X)\n",
        "\n",
        "      if threshold is None:\n",
        "        precisions, recalls, thresholds = precision_recall_curve(y, y_pred_score)\n",
        "        optimal_idx, threshold = get_optimal_threshold(precisions, recalls, thresholds)\n",
        "\n",
        "      y_pred = model.predict(X, threshold)\n",
        "\n",
        "      loss = loss_fn(y_pred_score, y).item()\n",
        "      auroc = roc_auc_score(y, y_pred_score)\n",
        "      precision = precision_score(y, y_pred)\n",
        "      recall = recall_score(y, y_pred)\n",
        "      f1 = f1_score(y, y_pred)\n",
        "\n",
        "    return {\n",
        "        \"loss\": loss,\n",
        "        \"auroc\": auroc,\n",
        "        \"optimal_threshold\": threshold,\n",
        "        \"f1_score\": f1,\n",
        "        \"precision\": precision,\n",
        "        \"recall\": recall\n",
        "    }\n"
      ]
    },
    {
      "cell_type": "code",
      "execution_count": 82,
      "metadata": {
        "tags": [
          "ex"
        ],
        "id": "_eR3vaUoZ3oR",
        "colab": {
          "base_uri": "https://localhost:8080/"
        },
        "outputId": "5c3d15c9-dab9-4e0e-94a0-946219b2d77d"
      },
      "outputs": [
        {
          "output_type": "stream",
          "name": "stdout",
          "text": [
            "Solution is correct!\n"
          ]
        }
      ],
      "source": [
        "eval_result = evaluate_model(model, X_train, y_train, loss_fn)\n",
        "\n",
        "assert 0.5 < eval_result[\"loss\"] < 0.6\n",
        "assert 0.6 < eval_result[\"auroc\"] < 0.9\n",
        "assert 0.3 < eval_result[\"precision\"] < 0.6\n",
        "assert 0.6 < eval_result[\"recall\"] < 0.9\n",
        "assert 0.4 < eval_result[\"f1_score\"] < 0.7\n",
        "\n",
        "print(\"Solution is correct!\")"
      ]
    },
    {
      "cell_type": "markdown",
      "metadata": {
        "tags": [
          "ex"
        ],
        "id": "PM93_MwuZ3oR"
      },
      "source": [
        "### Zadanie 6 (0.5 punktu)\n",
        "\n",
        "Zaimplementuj 3-warstwową sieć MLP z dropout (50%). Rozmiary warstw ukrytych mają wynosić 256 i 128."
      ]
    },
    {
      "cell_type": "code",
      "execution_count": 89,
      "metadata": {
        "tags": [
          "ex"
        ],
        "id": "xMSCXC6WZ3oR"
      },
      "outputs": [],
      "source": [
        "class RegularizedMLP(nn.Module):\n",
        "    def __init__(self, input_size: int, dropout_p: float = 0.5):\n",
        "        super().__init__()\n",
        "\n",
        "        self.fc1 = nn.Linear(input_size, 256)\n",
        "        self.fc2 = nn.Linear(256, 128)\n",
        "        self.fc3 = nn.Linear(128, 1)\n",
        "\n",
        "        self.dropout = nn.Dropout(dropout_p)\n",
        "\n",
        "    def forward(self, x):\n",
        "        return nn.Sequential(\n",
        "            self.fc1,\n",
        "            nn.ReLU(),\n",
        "            nn.Dropout(dropout_p),\n",
        "            self.fc2,\n",
        "            nn.ReLU(),\n",
        "            nn.Dropout(dropout_p),\n",
        "            self.fc3,\n",
        "        )(x)\n",
        "\n",
        "    def predict_proba(self, x):\n",
        "        return sigmoid(self(x))\n",
        "\n",
        "    def predict(self, x, threshold: float = 0.5):\n",
        "        y_pred_score = self.predict_proba(x)\n",
        "        return (y_pred_score > threshold).to(torch.int32)\n",
        "\n"
      ]
    },
    {
      "cell_type": "code",
      "execution_count": 90,
      "metadata": {
        "tags": [
          "ex"
        ],
        "id": "Ya6MIg83Z3oS",
        "colab": {
          "base_uri": "https://localhost:8080/"
        },
        "outputId": "649250fe-5849-4c0f-b54e-d8887cc02dc0"
      },
      "outputs": [
        {
          "output_type": "stream",
          "name": "stdout",
          "text": [
            "Solution is correct!\n"
          ]
        }
      ],
      "source": [
        "verification_input_size = 143\n",
        "verification_dropout_p = 0.125\n",
        "verification_model = RegularizedMLP(\n",
        "    input_size=verification_input_size,\n",
        "    dropout_p=verification_dropout_p,\n",
        ")\n",
        "\n",
        "assert any(\n",
        "    isinstance(module, nn.Linear) and module.in_features == verification_input_size and module.out_features == 256\n",
        "    for module in verification_model.modules()\n",
        ")\n",
        "\n",
        "assert any(\n",
        "    isinstance(module, nn.Linear) and module.in_features == 256 and module.out_features == 128\n",
        "    for module in verification_model.modules()\n",
        ")\n",
        "\n",
        "assert any(\n",
        "    isinstance(module, nn.Linear) and module.in_features == 128 and module.out_features == 1\n",
        "    for module in verification_model.modules()\n",
        ")\n",
        "\n",
        "assert any(isinstance(module, nn.Dropout) and module.p == verification_dropout_p for module in verification_model.modules())\n",
        "assert any(isinstance(module, nn.ReLU) for module in verification_model.modules())\n",
        "\n",
        "print(\"Solution is correct!\")"
      ]
    },
    {
      "cell_type": "markdown",
      "metadata": {
        "id": "rEk9azaULAsz"
      },
      "source": [
        "Opisaliśmy wcześniej podstawowy optymalizator w sieciach neuronowych - spadek wzdłuż gradientu. Jednak wymaga on użycia całego zbioru danych, aby obliczyć gradient, co jest często niewykonalne przez rozmiar zbioru. Dlatego wymyślono **stochastyczny spadek wzdłuż gradientu (stochastic gradient descent, SGD)**, w którym używamy 1 przykładu naraz, liczymy gradient tylko po nim i aktualizujemy parametry. Jest to oczywiście dość grube przybliżenie gradientu, ale pozwala robić szybko dużo małych kroków. Kompromisem, którego używa się w praktyce, jest **minibatch gradient descent**, czyli używanie batchy np. 32, 64 czy 128 przykładów.\n",
        "\n",
        "Rzadko wspominanym, a ważnym faktem jest także to, że stochastyczność metody optymalizacji jest sama w sobie też [metodą regularyzacji](https://arxiv.org/abs/2101.12176), a więc `batch_size` to także hiperparametr.\n",
        "\n",
        "Obecnie najpopularniejszą odmianą SGD jest [Adam](https://arxiv.org/abs/1412.6980), gdyż uczy on szybko sieć oraz daje bardzo dobre wyniki nawet przy niekoniecznie idealnie dobranych hiperparametrach. W PyTorchu najlepiej korzystać z jego implementacji `AdamW`, która jest nieco lepsza niż implementacja `Adam`. Jest to zasadniczo zawsze wybór domyślny przy treningu współczesnych sieci neuronowych.\n",
        "\n",
        "Na razie użyjemy jednak minibatch SGD."
      ]
    },
    {
      "cell_type": "markdown",
      "metadata": {
        "id": "HHzfE1S7Z3oS"
      },
      "source": [
        "Poniżej znajduje się implementacja prostej klasy dziedziczącej po `Dataset` - tak w PyTorchu implementuje się własne zbiory danych. Użycie takich klas umożliwia użycie klas ładujących dane (`DataLoader`), które z kolei pozwalają łatwo ładować batche danych. Trzeba w takiej klasie zaimplementować metody:\n",
        "- `__len__` - zwraca ilość punktów w zbiorze\n",
        "- `__getitem__` - zwraca przykład ze zbioru pod danym indeksem oraz jego klasę\n"
      ]
    },
    {
      "cell_type": "code",
      "execution_count": 91,
      "metadata": {
        "id": "FBWRrscZZ3oS"
      },
      "outputs": [],
      "source": [
        "from torch.utils.data import Dataset\n",
        "\n",
        "\n",
        "class MyDataset(Dataset):\n",
        "    def __init__(self, data, y):\n",
        "        super().__init__()\n",
        "\n",
        "        self.data = data\n",
        "        self.y = y\n",
        "\n",
        "    def __len__(self):\n",
        "        return self.data.shape[0]\n",
        "\n",
        "    def __getitem__(self, idx):\n",
        "        return self.data[idx], self.y[idx]\n",
        "\n"
      ]
    },
    {
      "cell_type": "markdown",
      "metadata": {
        "tags": [
          "ex"
        ],
        "id": "bwybx4HWZ3oS"
      },
      "source": [
        "### Zadanie 7 (1.5 punktu)\n",
        "\n",
        "Zaimplementuj pętlę treningowo-walidacyjną dla sieci neuronowej. Wykorzystaj podane wartości hiperparametrów do treningu (stała ucząca, prawdopodobieństwo dropoutu, regularyzacja L2, rozmiar batcha, maksymalna liczba epok). Użyj optymalizatora SGD.\n",
        "\n",
        "Dodatkowo zaimplementuj regularyzację przez early stopping. Sprawdzaj co epokę wynik na zbiorze walidacyjnym. Użyj podanej wartości patience, a jako metryki po prostu wartości funkcji kosztu. Może się tutaj przydać zaimplementowana funkcja `evaluate_model()`.\n",
        "\n",
        "Pamiętaj o tym, aby przechowywać najlepszy dotychczasowy wynik walidacyjny oraz najlepszy dotychczasowy model. Zapamiętaj też optymalny próg do klasyfikacji dla najlepszego modelu."
      ]
    },
    {
      "cell_type": "code",
      "execution_count": 92,
      "metadata": {
        "tags": [
          "ex"
        ],
        "id": "pFYSh618Z3oT"
      },
      "outputs": [],
      "source": [
        "from copy import deepcopy\n",
        "\n",
        "from torch.utils.data import DataLoader\n",
        "\n",
        "\n",
        "learning_rate = 1e-3\n",
        "dropout_p = 0.5\n",
        "l2_reg = 1e-4\n",
        "batch_size = 128\n",
        "max_epochs = 300\n",
        "\n",
        "early_stopping_patience = 4"
      ]
    },
    {
      "cell_type": "code",
      "execution_count": 111,
      "metadata": {
        "editable": true,
        "lines_to_next_cell": 2,
        "scrolled": true,
        "tags": [
          "ex"
        ],
        "id": "FpNZrcuLZ3oT",
        "colab": {
          "base_uri": "https://localhost:8080/"
        },
        "outputId": "5399cdcd-ab72-4903-b1b3-b4dce248cd14"
      },
      "outputs": [
        {
          "output_type": "stream",
          "name": "stdout",
          "text": [
            "Epoch 0 train loss: 0.6940, eval loss 0.8547\n",
            "Epoch 1 train loss: 0.6747, eval loss 0.8478\n",
            "Epoch 2 train loss: 0.6523, eval loss 0.8414\n",
            "Epoch 3 train loss: 0.6427, eval loss 0.8354\n",
            "Epoch 4 train loss: 0.6323, eval loss 0.8298\n",
            "Epoch 5 train loss: 0.6112, eval loss 0.8245\n",
            "Epoch 6 train loss: 0.6006, eval loss 0.8195\n",
            "Epoch 7 train loss: 0.5923, eval loss 0.8147\n",
            "Epoch 8 train loss: 0.5895, eval loss 0.8102\n",
            "Epoch 9 train loss: 0.5789, eval loss 0.8059\n",
            "Epoch 10 train loss: 0.5717, eval loss 0.8018\n",
            "Epoch 11 train loss: 0.5703, eval loss 0.7979\n",
            "Epoch 12 train loss: 0.5601, eval loss 0.7942\n",
            "Epoch 13 train loss: 0.5537, eval loss 0.7907\n",
            "Epoch 14 train loss: 0.5509, eval loss 0.7875\n",
            "Epoch 15 train loss: 0.5422, eval loss 0.7844\n",
            "Epoch 16 train loss: 0.5439, eval loss 0.7815\n",
            "Epoch 17 train loss: 0.5292, eval loss 0.7787\n",
            "Epoch 18 train loss: 0.5247, eval loss 0.7761\n",
            "Epoch 19 train loss: 0.5378, eval loss 0.7737\n",
            "Epoch 20 train loss: 0.5211, eval loss 0.7714\n",
            "Epoch 21 train loss: 0.5171, eval loss 0.7692\n",
            "Epoch 22 train loss: 0.5085, eval loss 0.7672\n",
            "Epoch 23 train loss: 0.5130, eval loss 0.7652\n",
            "Epoch 24 train loss: 0.5227, eval loss 0.7634\n",
            "Epoch 25 train loss: 0.5211, eval loss 0.7617\n",
            "Epoch 26 train loss: 0.5028, eval loss 0.7600\n",
            "Epoch 27 train loss: 0.4966, eval loss 0.7584\n",
            "Epoch 28 train loss: 0.4988, eval loss 0.7569\n",
            "Epoch 29 train loss: 0.4946, eval loss 0.7555\n",
            "Epoch 30 train loss: 0.5073, eval loss 0.7540\n",
            "Epoch 31 train loss: 0.4943, eval loss 0.7527\n",
            "Epoch 32 train loss: 0.4817, eval loss 0.7514\n",
            "Epoch 33 train loss: 0.4931, eval loss 0.7502\n",
            "Epoch 34 train loss: 0.4765, eval loss 0.7489\n",
            "Epoch 35 train loss: 0.4863, eval loss 0.7477\n",
            "Epoch 36 train loss: 0.4784, eval loss 0.7465\n",
            "Epoch 37 train loss: 0.4781, eval loss 0.7454\n",
            "Epoch 38 train loss: 0.4700, eval loss 0.7443\n",
            "Epoch 39 train loss: 0.4634, eval loss 0.7432\n",
            "Epoch 40 train loss: 0.4735, eval loss 0.7421\n",
            "Epoch 41 train loss: 0.4757, eval loss 0.7411\n",
            "Epoch 42 train loss: 0.4748, eval loss 0.7401\n",
            "Epoch 43 train loss: 0.4849, eval loss 0.7392\n",
            "Epoch 44 train loss: 0.4594, eval loss 0.7382\n",
            "Epoch 45 train loss: 0.4666, eval loss 0.7372\n",
            "Epoch 46 train loss: 0.4591, eval loss 0.7362\n",
            "Epoch 47 train loss: 0.4495, eval loss 0.7353\n",
            "Epoch 48 train loss: 0.4664, eval loss 0.7344\n",
            "Epoch 49 train loss: 0.4498, eval loss 0.7335\n",
            "Epoch 50 train loss: 0.4503, eval loss 0.7326\n",
            "Epoch 51 train loss: 0.4392, eval loss 0.7318\n",
            "Epoch 52 train loss: 0.4490, eval loss 0.7309\n",
            "Epoch 53 train loss: 0.4377, eval loss 0.7301\n",
            "Epoch 54 train loss: 0.4414, eval loss 0.7293\n",
            "Epoch 55 train loss: 0.4265, eval loss 0.7285\n",
            "Epoch 56 train loss: 0.4452, eval loss 0.7277\n",
            "Epoch 57 train loss: 0.4390, eval loss 0.7270\n",
            "Epoch 58 train loss: 0.4380, eval loss 0.7262\n",
            "Epoch 59 train loss: 0.4236, eval loss 0.7255\n",
            "Epoch 60 train loss: 0.4214, eval loss 0.7248\n",
            "Epoch 61 train loss: 0.4212, eval loss 0.7240\n",
            "Epoch 62 train loss: 0.4204, eval loss 0.7234\n",
            "Epoch 63 train loss: 0.4271, eval loss 0.7227\n",
            "Epoch 64 train loss: 0.4226, eval loss 0.7221\n",
            "Epoch 65 train loss: 0.4355, eval loss 0.7215\n",
            "Epoch 66 train loss: 0.4150, eval loss 0.7209\n",
            "Epoch 67 train loss: 0.4213, eval loss 0.7203\n",
            "Epoch 68 train loss: 0.4191, eval loss 0.7198\n",
            "Epoch 69 train loss: 0.4195, eval loss 0.7192\n",
            "Epoch 70 train loss: 0.4150, eval loss 0.7186\n",
            "Epoch 71 train loss: 0.4205, eval loss 0.7180\n",
            "Epoch 72 train loss: 0.3862, eval loss 0.7175\n",
            "Epoch 73 train loss: 0.3921, eval loss 0.7170\n",
            "Epoch 74 train loss: 0.4117, eval loss 0.7166\n",
            "Epoch 75 train loss: 0.3896, eval loss 0.7161\n",
            "Epoch 76 train loss: 0.4055, eval loss 0.7157\n",
            "Epoch 77 train loss: 0.4066, eval loss 0.7152\n",
            "Epoch 78 train loss: 0.4010, eval loss 0.7147\n",
            "Epoch 79 train loss: 0.4138, eval loss 0.7142\n",
            "Epoch 80 train loss: 0.3949, eval loss 0.7138\n",
            "Epoch 81 train loss: 0.3825, eval loss 0.7134\n",
            "Epoch 82 train loss: 0.3963, eval loss 0.7130\n",
            "Epoch 83 train loss: 0.4060, eval loss 0.7126\n",
            "Epoch 84 train loss: 0.3899, eval loss 0.7122\n",
            "Epoch 85 train loss: 0.4045, eval loss 0.7119\n",
            "Epoch 86 train loss: 0.3714, eval loss 0.7115\n",
            "Epoch 87 train loss: 0.3957, eval loss 0.7111\n",
            "Epoch 88 train loss: 0.3959, eval loss 0.7108\n",
            "Epoch 89 train loss: 0.3548, eval loss 0.7104\n",
            "Epoch 90 train loss: 0.4024, eval loss 0.7101\n",
            "Epoch 91 train loss: 0.3893, eval loss 0.7097\n",
            "Epoch 92 train loss: 0.3761, eval loss 0.7094\n",
            "Epoch 93 train loss: 0.3862, eval loss 0.7090\n",
            "Epoch 94 train loss: 0.3923, eval loss 0.7088\n",
            "Epoch 95 train loss: 0.3768, eval loss 0.7085\n",
            "Epoch 96 train loss: 0.3779, eval loss 0.7082\n",
            "Epoch 97 train loss: 0.3735, eval loss 0.7079\n",
            "Epoch 98 train loss: 0.3723, eval loss 0.7077\n",
            "Epoch 99 train loss: 0.4096, eval loss 0.7074\n",
            "Epoch 100 train loss: 0.3920, eval loss 0.7071\n",
            "Epoch 101 train loss: 0.3908, eval loss 0.7068\n",
            "Epoch 102 train loss: 0.4020, eval loss 0.7066\n",
            "Epoch 103 train loss: 0.3586, eval loss 0.7063\n",
            "Epoch 104 train loss: 0.4045, eval loss 0.7060\n",
            "Epoch 105 train loss: 0.3968, eval loss 0.7058\n",
            "Epoch 106 train loss: 0.4059, eval loss 0.7056\n",
            "Epoch 107 train loss: 0.4036, eval loss 0.7055\n",
            "Epoch 108 train loss: 0.3973, eval loss 0.7053\n",
            "Epoch 109 train loss: 0.3920, eval loss 0.7050\n",
            "Epoch 110 train loss: 0.3765, eval loss 0.7048\n",
            "Epoch 111 train loss: 0.3812, eval loss 0.7046\n",
            "Epoch 112 train loss: 0.3968, eval loss 0.7044\n",
            "Epoch 113 train loss: 0.3731, eval loss 0.7042\n",
            "Epoch 114 train loss: 0.3819, eval loss 0.7040\n",
            "Epoch 115 train loss: 0.3847, eval loss 0.7039\n",
            "Epoch 116 train loss: 0.3603, eval loss 0.7037\n",
            "Epoch 117 train loss: 0.3959, eval loss 0.7036\n",
            "Epoch 118 train loss: 0.4146, eval loss 0.7034\n",
            "Epoch 119 train loss: 0.3975, eval loss 0.7032\n",
            "Epoch 120 train loss: 0.4015, eval loss 0.7031\n",
            "Epoch 121 train loss: 0.3771, eval loss 0.7028\n",
            "Epoch 122 train loss: 0.3758, eval loss 0.7028\n",
            "Epoch 123 train loss: 0.3856, eval loss 0.7026\n",
            "Epoch 124 train loss: 0.3738, eval loss 0.7025\n",
            "Epoch 125 train loss: 0.3916, eval loss 0.7023\n",
            "Epoch 126 train loss: 0.3660, eval loss 0.7022\n",
            "Epoch 127 train loss: 0.4134, eval loss 0.7021\n",
            "Epoch 128 train loss: 0.3982, eval loss 0.7020\n",
            "Epoch 129 train loss: 0.3692, eval loss 0.7019\n",
            "Epoch 130 train loss: 0.3545, eval loss 0.7018\n",
            "Epoch 131 train loss: 0.3753, eval loss 0.7016\n",
            "Epoch 132 train loss: 0.3826, eval loss 0.7015\n",
            "Epoch 133 train loss: 0.4054, eval loss 0.7013\n",
            "Epoch 134 train loss: 0.3602, eval loss 0.7012\n",
            "Epoch 135 train loss: 0.4104, eval loss 0.7011\n",
            "Epoch 136 train loss: 0.3660, eval loss 0.7010\n",
            "Epoch 137 train loss: 0.4012, eval loss 0.7009\n",
            "Epoch 138 train loss: 0.3678, eval loss 0.7009\n",
            "Epoch 139 train loss: 0.3712, eval loss 0.7007\n",
            "Epoch 140 train loss: 0.3953, eval loss 0.7006\n",
            "Epoch 141 train loss: 0.3901, eval loss 0.7005\n",
            "Epoch 142 train loss: 0.4165, eval loss 0.7004\n",
            "Epoch 143 train loss: 0.3824, eval loss 0.7003\n",
            "Epoch 144 train loss: 0.3610, eval loss 0.7003\n",
            "Epoch 145 train loss: 0.3783, eval loss 0.7002\n",
            "Epoch 146 train loss: 0.3889, eval loss 0.7002\n",
            "Epoch 147 train loss: 0.3788, eval loss 0.7002\n",
            "Epoch 148 train loss: 0.3900, eval loss 0.7001\n",
            "Epoch 149 train loss: 0.3689, eval loss 0.7000\n",
            "Epoch 150 train loss: 0.3860, eval loss 0.6999\n",
            "Epoch 151 train loss: 0.3809, eval loss 0.6998\n",
            "Epoch 152 train loss: 0.3820, eval loss 0.6997\n",
            "Epoch 153 train loss: 0.3695, eval loss 0.6997\n",
            "Epoch 154 train loss: 0.3791, eval loss 0.6996\n",
            "Epoch 155 train loss: 0.3738, eval loss 0.6994\n",
            "Epoch 156 train loss: 0.3729, eval loss 0.6994\n",
            "Epoch 157 train loss: 0.3892, eval loss 0.6993\n",
            "Epoch 158 train loss: 0.3691, eval loss 0.6991\n",
            "Epoch 159 train loss: 0.3648, eval loss 0.6991\n",
            "Epoch 160 train loss: 0.3612, eval loss 0.6989\n",
            "Epoch 161 train loss: 0.3835, eval loss 0.6988\n",
            "Epoch 162 train loss: 0.3487, eval loss 0.6988\n",
            "Epoch 163 train loss: 0.4125, eval loss 0.6988\n",
            "Epoch 164 train loss: 0.3699, eval loss 0.6987\n",
            "Epoch 165 train loss: 0.3860, eval loss 0.6985\n",
            "Epoch 166 train loss: 0.3800, eval loss 0.6985\n",
            "Epoch 167 train loss: 0.3878, eval loss 0.6984\n",
            "Epoch 168 train loss: 0.3764, eval loss 0.6984\n",
            "Epoch 169 train loss: 0.3635, eval loss 0.6983\n",
            "Epoch 170 train loss: 0.3930, eval loss 0.6982\n",
            "Epoch 171 train loss: 0.3788, eval loss 0.6980\n",
            "Epoch 172 train loss: 0.4138, eval loss 0.6981\n",
            "Epoch 173 train loss: 0.3611, eval loss 0.6981\n",
            "Epoch 174 train loss: 0.4185, eval loss 0.6980\n",
            "Epoch 175 train loss: 0.3846, eval loss 0.6980\n",
            "Epoch 176 train loss: 0.3638, eval loss 0.6979\n",
            "Epoch 177 train loss: 0.3475, eval loss 0.6978\n",
            "Epoch 178 train loss: 0.3834, eval loss 0.6977\n",
            "Epoch 179 train loss: 0.4056, eval loss 0.6977\n",
            "Epoch 180 train loss: 0.3703, eval loss 0.6977\n",
            "Epoch 181 train loss: 0.3748, eval loss 0.6976\n",
            "Epoch 182 train loss: 0.3738, eval loss 0.6975\n",
            "Epoch 183 train loss: 0.3696, eval loss 0.6974\n",
            "Epoch 184 train loss: 0.3877, eval loss 0.6973\n",
            "Epoch 185 train loss: 0.3930, eval loss 0.6973\n",
            "Epoch 186 train loss: 0.3920, eval loss 0.6972\n",
            "Epoch 187 train loss: 0.3766, eval loss 0.6972\n",
            "Epoch 188 train loss: 0.3608, eval loss 0.6972\n",
            "Epoch 189 train loss: 0.3978, eval loss 0.6972\n",
            "Epoch 190 train loss: 0.3776, eval loss 0.6971\n",
            "Epoch 191 train loss: 0.3275, eval loss 0.6971\n",
            "Epoch 192 train loss: 0.3696, eval loss 0.6970\n",
            "Epoch 193 train loss: 0.3888, eval loss 0.6969\n",
            "Epoch 194 train loss: 0.3721, eval loss 0.6969\n",
            "Epoch 195 train loss: 0.3779, eval loss 0.6968\n",
            "Epoch 196 train loss: 0.3873, eval loss 0.6968\n",
            "Epoch 197 train loss: 0.3618, eval loss 0.6967\n",
            "Epoch 198 train loss: 0.3953, eval loss 0.6966\n",
            "Epoch 199 train loss: 0.3970, eval loss 0.6966\n",
            "Epoch 200 train loss: 0.3855, eval loss 0.6966\n",
            "Epoch 201 train loss: 0.3820, eval loss 0.6965\n",
            "Epoch 202 train loss: 0.3990, eval loss 0.6964\n",
            "Epoch 203 train loss: 0.3915, eval loss 0.6964\n",
            "Epoch 204 train loss: 0.3665, eval loss 0.6963\n",
            "Epoch 205 train loss: 0.3709, eval loss 0.6963\n",
            "Epoch 206 train loss: 0.3786, eval loss 0.6963\n",
            "Epoch 207 train loss: 0.3837, eval loss 0.6962\n",
            "Epoch 208 train loss: 0.3944, eval loss 0.6962\n",
            "Epoch 209 train loss: 0.3920, eval loss 0.6961\n",
            "Epoch 210 train loss: 0.3761, eval loss 0.6961\n",
            "Epoch 211 train loss: 0.3812, eval loss 0.6961\n",
            "Epoch 212 train loss: 0.3914, eval loss 0.6960\n",
            "Epoch 213 train loss: 0.3873, eval loss 0.6959\n",
            "Epoch 214 train loss: 0.3948, eval loss 0.6958\n",
            "Epoch 215 train loss: 0.3599, eval loss 0.6958\n",
            "Epoch 216 train loss: 0.3503, eval loss 0.6958\n",
            "Epoch 217 train loss: 0.3851, eval loss 0.6957\n",
            "Epoch 218 train loss: 0.3604, eval loss 0.6957\n",
            "Epoch 219 train loss: 0.3896, eval loss 0.6956\n",
            "Epoch 220 train loss: 0.3610, eval loss 0.6956\n",
            "Epoch 221 train loss: 0.3706, eval loss 0.6955\n",
            "Epoch 222 train loss: 0.3374, eval loss 0.6955\n",
            "Epoch 223 train loss: 0.3878, eval loss 0.6955\n",
            "Epoch 224 train loss: 0.3984, eval loss 0.6955\n",
            "Epoch 225 train loss: 0.3480, eval loss 0.6954\n",
            "Epoch 226 train loss: 0.3822, eval loss 0.6954\n",
            "Epoch 227 train loss: 0.3598, eval loss 0.6953\n",
            "Epoch 228 train loss: 0.3950, eval loss 0.6953\n",
            "Epoch 229 train loss: 0.3849, eval loss 0.6952\n",
            "Epoch 230 train loss: 0.3575, eval loss 0.6952\n",
            "Epoch 231 train loss: 0.3628, eval loss 0.6952\n",
            "Epoch 232 train loss: 0.3559, eval loss 0.6952\n",
            "Epoch 233 train loss: 0.3511, eval loss 0.6951\n",
            "Epoch 234 train loss: 0.3408, eval loss 0.6951\n",
            "Epoch 235 train loss: 0.3662, eval loss 0.6951\n",
            "Epoch 236 train loss: 0.3449, eval loss 0.6951\n",
            "Epoch 237 train loss: 0.3732, eval loss 0.6950\n",
            "Epoch 238 train loss: 0.3673, eval loss 0.6949\n",
            "Epoch 239 train loss: 0.3554, eval loss 0.6949\n",
            "Epoch 240 train loss: 0.3692, eval loss 0.6948\n",
            "Epoch 241 train loss: 0.3504, eval loss 0.6947\n",
            "Epoch 242 train loss: 0.4020, eval loss 0.6947\n",
            "Epoch 243 train loss: 0.3757, eval loss 0.6948\n",
            "Epoch 244 train loss: 0.3572, eval loss 0.6948\n",
            "Epoch 245 train loss: 0.3778, eval loss 0.6947\n",
            "Epoch 246 train loss: 0.3559, eval loss 0.6947\n",
            "Epoch 247 train loss: 0.3921, eval loss 0.6946\n",
            "Epoch 248 train loss: 0.3429, eval loss 0.6946\n",
            "Epoch 249 train loss: 0.3526, eval loss 0.6946\n",
            "Epoch 250 train loss: 0.3712, eval loss 0.6946\n",
            "Epoch 251 train loss: 0.3594, eval loss 0.6945\n",
            "Epoch 252 train loss: 0.3777, eval loss 0.6946\n",
            "Epoch 253 train loss: 0.3856, eval loss 0.6945\n",
            "Epoch 254 train loss: 0.3974, eval loss 0.6944\n",
            "Epoch 255 train loss: 0.3740, eval loss 0.6944\n",
            "Epoch 256 train loss: 0.3609, eval loss 0.6944\n",
            "Epoch 257 train loss: 0.3761, eval loss 0.6943\n",
            "Epoch 258 train loss: 0.3308, eval loss 0.6942\n",
            "Epoch 259 train loss: 0.3714, eval loss 0.6942\n",
            "Epoch 260 train loss: 0.3776, eval loss 0.6942\n",
            "Epoch 261 train loss: 0.3682, eval loss 0.6941\n",
            "Epoch 262 train loss: 0.3529, eval loss 0.6940\n",
            "Epoch 263 train loss: 0.3950, eval loss 0.6940\n",
            "Epoch 264 train loss: 0.3941, eval loss 0.6940\n",
            "Epoch 265 train loss: 0.3521, eval loss 0.6939\n",
            "Epoch 266 train loss: 0.3823, eval loss 0.6939\n",
            "Epoch 267 train loss: 0.3714, eval loss 0.6938\n",
            "Epoch 268 train loss: 0.3460, eval loss 0.6939\n",
            "Epoch 269 train loss: 0.3627, eval loss 0.6938\n",
            "Epoch 270 train loss: 0.3531, eval loss 0.6938\n",
            "Epoch 271 train loss: 0.3685, eval loss 0.6938\n",
            "Epoch 272 train loss: 0.3710, eval loss 0.6938\n",
            "Epoch 273 train loss: 0.3781, eval loss 0.6939\n",
            "Epoch 274 train loss: 0.3621, eval loss 0.6938\n",
            "Epoch 275 train loss: 0.3851, eval loss 0.6937\n",
            "Epoch 276 train loss: 0.3707, eval loss 0.6938\n",
            "Epoch 277 train loss: 0.3800, eval loss 0.6937\n",
            "Epoch 278 train loss: 0.4062, eval loss 0.6937\n",
            "Epoch 279 train loss: 0.3325, eval loss 0.6936\n",
            "Epoch 280 train loss: 0.3688, eval loss 0.6936\n",
            "Epoch 281 train loss: 0.3982, eval loss 0.6935\n",
            "Epoch 282 train loss: 0.3674, eval loss 0.6934\n",
            "Epoch 283 train loss: 0.3752, eval loss 0.6934\n",
            "Epoch 284 train loss: 0.3805, eval loss 0.6933\n",
            "Epoch 285 train loss: 0.3647, eval loss 0.6934\n",
            "Epoch 286 train loss: 0.3925, eval loss 0.6933\n",
            "Epoch 287 train loss: 0.3711, eval loss 0.6933\n",
            "Epoch 288 train loss: 0.3548, eval loss 0.6933\n",
            "Epoch 289 train loss: 0.3393, eval loss 0.6933\n",
            "Epoch 290 train loss: 0.3591, eval loss 0.6933\n",
            "Epoch 291 train loss: 0.3593, eval loss 0.6933\n",
            "Epoch 292 train loss: 0.3652, eval loss 0.6933\n",
            "Epoch 293 train loss: 0.3725, eval loss 0.6932\n",
            "Epoch 294 train loss: 0.3607, eval loss 0.6933\n",
            "Epoch 295 train loss: 0.4217, eval loss 0.6933\n",
            "Epoch 296 train loss: 0.3357, eval loss 0.6932\n",
            "Epoch 297 train loss: 0.3578, eval loss 0.6931\n",
            "Epoch 298 train loss: 0.3458, eval loss 0.6930\n",
            "Epoch 299 train loss: 0.3826, eval loss 0.6930\n"
          ]
        }
      ],
      "source": [
        "# 1m\n",
        "model = RegularizedMLP(\n",
        "    input_size=X_train.shape[1],\n",
        "    dropout_p=dropout_p\n",
        ")\n",
        "optimizer = torch.optim.SGD(\n",
        "    model.parameters(),\n",
        "    lr=learning_rate,\n",
        "    weight_decay=l2_reg\n",
        ")\n",
        "loss_fn = torch.nn.BCEWithLogitsLoss()\n",
        "\n",
        "train_dataset = MyDataset(X_train, y_train)\n",
        "train_dataloader = DataLoader(train_dataset, batch_size=batch_size)\n",
        "\n",
        "steps_without_improvement = 0\n",
        "\n",
        "best_val_loss = np.inf\n",
        "best_model = None\n",
        "best_threshold = None\n",
        "\n",
        "for epoch_num in range(max_epochs):\n",
        "    model.train()\n",
        "\n",
        "    # note that we are using DataLoader to get batches\n",
        "    for X_batch, y_batch in train_dataloader:\n",
        "        y_pred = model(X_batch)\n",
        "        loss = loss_fn(y_pred, y_batch)\n",
        "\n",
        "        # backpropagation\n",
        "        loss.backward()\n",
        "\n",
        "        # optimization\n",
        "        optimizer.step()\n",
        "        optimizer.zero_grad()\n",
        "\n",
        "    valid_metrics = evaluate_model(model, X_valid, y_valid, loss_fn)\n",
        "    if valid_metrics['loss'] < best_val_loss:\n",
        "      best_val_loss = valid_metrics['loss']\n",
        "      best_model = deepcopy(model)\n",
        "      best_threshold = valid_metrics['optimal_threshold']\n",
        "\n",
        "      steps_without_improvement = 0\n",
        "    else:\n",
        "      steps_without_improvement += 1\n",
        "\n",
        "    # Complete loop after {early_stopping_patience} steps without improvement\n",
        "    # 4 as default configuration\n",
        "    if steps_without_improvement >= early_stopping_patience:\n",
        "      break\n",
        "\n",
        "    print(f\"Epoch {epoch_num} train loss: {loss.item():.4f}, eval loss {valid_metrics['loss']:.4f}\")"
      ]
    },
    {
      "cell_type": "code",
      "execution_count": 114,
      "metadata": {
        "tags": [
          "ex"
        ],
        "id": "zpxvwe1jZ3oT",
        "colab": {
          "base_uri": "https://localhost:8080/"
        },
        "outputId": "74e6b369-ee2e-4a94-c5fb-11cb889bdf59"
      },
      "outputs": [
        {
          "output_type": "stream",
          "name": "stdout",
          "text": [
            "AUROC: 90.26%\n",
            "F1: 68.78%\n",
            "Precision: 63.19%\n",
            "Recall: 75.45%\n"
          ]
        }
      ],
      "source": [
        "test_metrics = evaluate_model(best_model, X_test, y_test, loss_fn, best_threshold)\n",
        "\n",
        "print(f\"AUROC: {test_metrics['auroc']:.2%}\")\n",
        "print(f\"F1: {test_metrics['f1_score']:.2%}\")\n",
        "print(f\"Precision: {test_metrics['precision']:.2%}\")\n",
        "print(f\"Recall: {test_metrics['recall']:.2%}\")"
      ]
    },
    {
      "cell_type": "code",
      "execution_count": 115,
      "metadata": {
        "tags": [
          "ex"
        ],
        "id": "zOfFtjw5Z3oT",
        "colab": {
          "base_uri": "https://localhost:8080/"
        },
        "outputId": "3defc88b-dfdb-4129-f95d-b92cdc927214"
      },
      "outputs": [
        {
          "output_type": "stream",
          "name": "stdout",
          "text": [
            "Solution is correct!\n"
          ]
        }
      ],
      "source": [
        "assert test_metrics[\"auroc\"] > 0.8\n",
        "assert test_metrics[\"f1_score\"] > 0.6\n",
        "assert test_metrics[\"precision\"] > 0.5\n",
        "assert test_metrics[\"recall\"] > 0.6\n",
        "\n",
        "print(\"Solution is correct!\")"
      ]
    },
    {
      "cell_type": "markdown",
      "metadata": {
        "id": "gkSLrGjRZ3oU"
      },
      "source": [
        "Wyniki wyglądają już dużo lepiej.\n",
        "\n",
        "Na koniec laboratorium dołożymy do naszego modelu jeszcze 3 powrzechnie używane techniki, które są bardzo proste, a pozwalają często ulepszyć wynik modelu.\n",
        "\n",
        "Pierwszą z nich są **warstwy normalizacji (normalization layers)**. Powstały one początkowo z założeniem, że przez przekształcenia przestrzeni dokonywane przez sieć zmienia się rozkład prawdopodobieństw pomiędzy warstwami, czyli tzw. *internal covariate shift*. Później okazało się, że zastosowanie takiej normalizacji wygładza powierzchnię funkcji kosztu, co ułatwia i przyspiesza optymalizację. Najpowszechniej używaną normalizacją jest **batch normalization (batch norm)**.\n",
        "\n",
        "Drugim ulepszeniem jest dodanie **wag klas (class weights)**. Mamy do czynienia z problemem klasyfikacji niezbalansowanej, więc klasa mniejszościowa, ważniejsza dla nas, powinna dostać większą wagę. Implementuje się to trywialnie prosto - po prostu mnożymy wartość funkcji kosztu dla danego przykładu przez wagę dla prawdziwej klasy tego przykładu. Praktycznie każdy klasyfikator operujący na jakiejś ważonej funkcji może działać w ten sposób, nie tylko sieci neuronowe.\n",
        "\n",
        "Ostatnim ulepszeniem jest zamiana SGD na optymalizator Adam, a konkretnie na optymalizator `AdamW`. Jest to przykład **optymalizatora adaptacyjnego (adaptive optimizer)**, który potrafi zaadaptować stałą uczącą dla każdego parametru z osobna w trakcie treningu. Wykorzystuje do tego gradienty - w uproszczeniu, im większa wariancja gradientu, tym mniejsze kroki w tym kierunku robimy."
      ]
    },
    {
      "cell_type": "markdown",
      "metadata": {
        "tags": [
          "ex"
        ],
        "id": "AnTZ1kKpZ3oU"
      },
      "source": [
        "### Zadanie 8 (0.5 punktu)\n",
        "\n",
        "Zaimplementuj model `NormalizingMLP`, o takiej samej strukturze jak `RegularizedMLP`, ale dodatkowo z warstwami `BatchNorm1d` pomiędzy warstwami `Linear` oraz `ReLU`.\n",
        "\n",
        "Za pomocą funkcji `compute_class_weight()` oblicz wagi dla poszczególnych klas. Użyj opcji `\"balanced\"`. Przekaż do funkcji kosztu wagę klasy pozytywnej (pamiętaj, aby zamienić ją na tensor).\n",
        "\n",
        "Zamień używany optymalizator na `AdamW`.\n",
        "\n",
        "Na koniec skopiuj resztę kodu do treningu z poprzedniego zadania, wytrenuj sieć i oblicz wyniki na zbiorze testowym."
      ]
    },
    {
      "cell_type": "code",
      "execution_count": 116,
      "metadata": {
        "tags": [
          "ex"
        ],
        "id": "X1mAuSi6Z3oU"
      },
      "outputs": [],
      "source": [
        "class NormalizingMLP(nn.Module):\n",
        "    def __init__(self, input_size: int, dropout_p: float = 0.5):\n",
        "        super().__init__()\n",
        "\n",
        "        self.mlp = nn.Sequential(\n",
        "            nn.Linear(input_size, 256),\n",
        "            nn.BatchNorm1d(256),\n",
        "            nn.ReLU(),\n",
        "            nn.Dropout(dropout_p),\n",
        "\n",
        "            nn.Linear(256, 128),\n",
        "            nn.BatchNorm1d(128),\n",
        "            nn.ReLU(),\n",
        "            nn.Dropout(dropout_p),\n",
        "\n",
        "            nn.Linear(128, 1)\n",
        "        )\n",
        "\n",
        "    def forward(self, x):\n",
        "        return self.mlp(x)\n",
        "\n",
        "    def predict_proba(self, x):\n",
        "        return sigmoid(self(x))\n",
        "\n",
        "    def predict(self, x, threshold: float = 0.5):\n",
        "        y_pred_score = self.predict_proba(x)\n",
        "        return (y_pred_score > threshold).to(torch.int32)\n",
        "\n"
      ]
    },
    {
      "cell_type": "code",
      "execution_count": 118,
      "metadata": {
        "tags": [
          "ex"
        ],
        "id": "XlbuBKQpZ3oU"
      },
      "outputs": [],
      "source": [
        "# define all the hyperparameters\n",
        "from sklearn.utils.class_weight import compute_class_weight\n",
        "\n",
        "class_weight_tensor = compute_class_weight(class_weight=\"balanced\", y=y_train.numpy().ravel(), classes=np.unique(y_train.numpy().ravel()))\n",
        "\n",
        "learning_rate = 1e-3\n",
        "dropout_p = 0.5\n",
        "l2_reg = 1e-4\n",
        "batch_size = 128\n",
        "max_epochs = 300\n",
        "\n",
        "early_stopping_patience = 4\n"
      ]
    },
    {
      "cell_type": "code",
      "execution_count": 124,
      "metadata": {
        "editable": true,
        "lines_to_next_cell": 2,
        "tags": [
          "ex"
        ],
        "id": "o-7lsMmzZ3oU",
        "colab": {
          "base_uri": "https://localhost:8080/"
        },
        "outputId": "6cde7b6e-67fd-4021-a473-80e0a7fae365"
      },
      "outputs": [
        {
          "output_type": "stream",
          "name": "stdout",
          "text": [
            "Epoch 0 train loss: 0.8716, eval loss 0.9476\n",
            "Epoch 1 train loss: 0.8018, eval loss 0.9278\n",
            "Epoch 2 train loss: 0.7293, eval loss 0.9135\n",
            "Epoch 3 train loss: 0.7052, eval loss 0.9013\n",
            "Epoch 4 train loss: 0.6871, eval loss 0.8922\n",
            "Epoch 5 train loss: 0.6943, eval loss 0.8842\n",
            "Epoch 6 train loss: 0.6550, eval loss 0.8782\n",
            "Epoch 7 train loss: 0.6439, eval loss 0.8732\n",
            "Epoch 8 train loss: 0.6501, eval loss 0.8682\n",
            "Epoch 9 train loss: 0.6352, eval loss 0.8650\n",
            "Epoch 10 train loss: 0.5794, eval loss 0.8616\n",
            "Epoch 11 train loss: 0.6010, eval loss 0.8585\n",
            "Epoch 12 train loss: 0.6443, eval loss 0.8565\n",
            "Epoch 13 train loss: 0.5288, eval loss 0.8537\n",
            "Epoch 14 train loss: 0.5647, eval loss 0.8524\n",
            "Epoch 15 train loss: 0.6485, eval loss 0.8512\n",
            "Epoch 16 train loss: 0.5283, eval loss 0.8492\n",
            "Epoch 17 train loss: 0.5634, eval loss 0.8483\n",
            "Epoch 18 train loss: 0.6348, eval loss 0.8464\n",
            "Epoch 19 train loss: 0.6221, eval loss 0.8454\n",
            "Epoch 20 train loss: 0.5355, eval loss 0.8442\n",
            "Epoch 21 train loss: 0.6169, eval loss 0.8438\n",
            "Epoch 22 train loss: 0.6366, eval loss 0.8430\n",
            "Epoch 23 train loss: 0.6346, eval loss 0.8422\n",
            "Epoch 24 train loss: 0.5959, eval loss 0.8414\n",
            "Epoch 25 train loss: 0.5922, eval loss 0.8408\n",
            "Epoch 26 train loss: 0.5676, eval loss 0.8406\n",
            "Epoch 27 train loss: 0.5720, eval loss 0.8399\n",
            "Epoch 28 train loss: 0.5609, eval loss 0.8391\n",
            "Epoch 29 train loss: 0.5730, eval loss 0.8387\n",
            "Epoch 30 train loss: 0.5057, eval loss 0.8388\n",
            "Epoch 31 train loss: 0.6006, eval loss 0.8380\n",
            "Epoch 32 train loss: 0.6116, eval loss 0.8381\n",
            "Epoch 33 train loss: 0.5215, eval loss 0.8372\n",
            "Epoch 34 train loss: 0.5732, eval loss 0.8363\n",
            "Epoch 35 train loss: 0.5594, eval loss 0.8366\n",
            "Epoch 36 train loss: 0.5432, eval loss 0.8364\n",
            "Epoch 37 train loss: 0.6211, eval loss 0.8359\n",
            "Epoch 38 train loss: 0.6264, eval loss 0.8357\n",
            "Epoch 39 train loss: 0.5588, eval loss 0.8354\n",
            "Epoch 40 train loss: 0.6287, eval loss 0.8350\n",
            "Epoch 41 train loss: 0.5085, eval loss 0.8349\n",
            "Epoch 42 train loss: 0.5391, eval loss 0.8346\n",
            "Epoch 43 train loss: 0.5738, eval loss 0.8338\n",
            "Epoch 44 train loss: 0.5778, eval loss 0.8341\n",
            "Epoch 45 train loss: 0.5968, eval loss 0.8338\n",
            "Epoch 46 train loss: 0.5666, eval loss 0.8342\n",
            "Epoch 47 train loss: 0.5573, eval loss 0.8344\n",
            "Epoch 48 train loss: 0.4965, eval loss 0.8336\n",
            "Epoch 49 train loss: 0.6195, eval loss 0.8333\n",
            "Epoch 50 train loss: 0.5951, eval loss 0.8332\n",
            "Epoch 51 train loss: 0.5812, eval loss 0.8328\n",
            "Epoch 52 train loss: 0.6410, eval loss 0.8326\n",
            "Epoch 53 train loss: 0.5911, eval loss 0.8326\n",
            "Epoch 54 train loss: 0.5277, eval loss 0.8322\n",
            "Epoch 55 train loss: 0.5621, eval loss 0.8318\n",
            "Epoch 56 train loss: 0.5625, eval loss 0.8320\n",
            "Epoch 57 train loss: 0.5650, eval loss 0.8312\n",
            "Epoch 58 train loss: 0.5691, eval loss 0.8315\n",
            "Epoch 59 train loss: 0.6062, eval loss 0.8313\n",
            "Epoch 60 train loss: 0.5984, eval loss 0.8312\n",
            "Epoch 61 train loss: 0.5579, eval loss 0.8313\n",
            "Epoch 62 train loss: 0.5231, eval loss 0.8311\n",
            "Epoch 63 train loss: 0.5975, eval loss 0.8305\n",
            "Epoch 64 train loss: 0.5684, eval loss 0.8307\n",
            "Epoch 65 train loss: 0.6255, eval loss 0.8303\n",
            "Epoch 66 train loss: 0.5891, eval loss 0.8301\n",
            "Epoch 67 train loss: 0.5501, eval loss 0.8305\n",
            "Epoch 68 train loss: 0.5698, eval loss 0.8299\n",
            "Epoch 69 train loss: 0.5451, eval loss 0.8297\n",
            "Epoch 70 train loss: 0.4802, eval loss 0.8304\n",
            "Epoch 71 train loss: 0.5414, eval loss 0.8304\n",
            "Epoch 72 train loss: 0.4961, eval loss 0.8294\n",
            "Epoch 73 train loss: 0.5783, eval loss 0.8293\n",
            "Epoch 74 train loss: 0.5547, eval loss 0.8291\n",
            "Epoch 75 train loss: 0.5382, eval loss 0.8296\n",
            "Epoch 76 train loss: 0.5937, eval loss 0.8290\n",
            "Epoch 77 train loss: 0.5532, eval loss 0.8292\n",
            "Epoch 78 train loss: 0.6172, eval loss 0.8289\n",
            "Epoch 79 train loss: 0.5446, eval loss 0.8285\n",
            "Epoch 80 train loss: 0.5603, eval loss 0.8284\n",
            "Epoch 81 train loss: 0.5949, eval loss 0.8288\n",
            "Epoch 82 train loss: 0.5519, eval loss 0.8281\n",
            "Epoch 83 train loss: 0.5279, eval loss 0.8288\n",
            "Epoch 84 train loss: 0.5508, eval loss 0.8286\n",
            "Epoch 85 train loss: 0.6051, eval loss 0.8284\n",
            "Early stopping on epoch 86\n"
          ]
        }
      ],
      "source": [
        "# training loop\n",
        "model = NormalizingMLP(\n",
        "    input_size=X_train.shape[1],\n",
        "    dropout_p=dropout_p\n",
        ")\n",
        "optimizer = torch.optim.SGD(\n",
        "    model.parameters(),\n",
        "    lr=learning_rate,\n",
        "    weight_decay=l2_reg\n",
        ")\n",
        "loss_fn = torch.nn.BCEWithLogitsLoss(pos_weight=torch.from_numpy(class_weight_tensor)[1])\n",
        "\n",
        "train_dataset = MyDataset(X_train, y_train)\n",
        "train_dataloader = DataLoader(train_dataset, batch_size=batch_size)\n",
        "\n",
        "steps_without_improvement = 0\n",
        "\n",
        "best_val_loss = np.inf\n",
        "best_model = None\n",
        "best_threshold = None\n",
        "\n",
        "for epoch_num in range(max_epochs):\n",
        "    model.train()\n",
        "\n",
        "    # note that we are using DataLoader to get batches\n",
        "    for X_batch, y_batch in train_dataloader:\n",
        "        y_pred = model(X_batch)\n",
        "        loss = loss_fn(y_pred, y_batch)\n",
        "\n",
        "        loss.backward()\n",
        "\n",
        "        optimizer.step()\n",
        "        optimizer.zero_grad()\n",
        "\n",
        "\n",
        "    valid_metrics = evaluate_model(model, X_valid, y_valid, loss_fn)\n",
        "    if valid_metrics['loss'] < best_val_loss:\n",
        "        best_val_loss = valid_metrics['loss']\n",
        "\n",
        "        best_model = deepcopy(model)\n",
        "        best_threshold = valid_metrics['optimal_threshold']\n",
        "        steps_without_improvement = 0\n",
        "    else:\n",
        "        steps_without_improvement += 1\n",
        "\n",
        "        if steps_without_improvement >= early_stopping_patience:\n",
        "            print(f\"Early stopping on epoch {epoch_num}\")\n",
        "            break\n",
        "\n",
        "    print(f\"Epoch {epoch_num} train loss: {loss.item():.4f}, eval loss {valid_metrics['loss']:.4f}\")\n"
      ]
    },
    {
      "cell_type": "code",
      "execution_count": 126,
      "metadata": {
        "editable": true,
        "tags": [
          "ex"
        ],
        "id": "UhuyYa5GZ3oV",
        "colab": {
          "base_uri": "https://localhost:8080/"
        },
        "outputId": "451f9829-c3f8-4c72-daf1-5d691c800a44"
      },
      "outputs": [
        {
          "output_type": "stream",
          "name": "stdout",
          "text": [
            "AUROC: 90.42%\n",
            "F1: 69.46%\n",
            "Precision: 65.02%\n",
            "Recall: 74.55%\n"
          ]
        }
      ],
      "source": [
        "test_metrics = evaluate_model(best_model, X_test, y_test, loss_fn, best_threshold)\n",
        "\n",
        "print(f\"AUROC: {test_metrics['auroc']:.2%}\")\n",
        "print(f\"F1: {test_metrics['f1_score']:.2%}\")\n",
        "print(f\"Precision: {test_metrics['precision']:.2%}\")\n",
        "print(f\"Recall: {test_metrics['recall']:.2%}\")"
      ]
    },
    {
      "cell_type": "code",
      "execution_count": 127,
      "metadata": {
        "tags": [
          "ex"
        ],
        "id": "oF1oM6ZdZ3oV",
        "colab": {
          "base_uri": "https://localhost:8080/"
        },
        "outputId": "bb22dfb9-edfa-4bc1-e3ce-c5221a97af5a"
      },
      "outputs": [
        {
          "output_type": "stream",
          "name": "stdout",
          "text": [
            "Solution is correct!\n"
          ]
        }
      ],
      "source": [
        "verification_input_size = 143\n",
        "verification_dropout_p = 0.125\n",
        "verification_model = NormalizingMLP(\n",
        "    input_size=verification_input_size,\n",
        "    dropout_p=verification_dropout_p,\n",
        ")\n",
        "\n",
        "assert any(\n",
        "    isinstance(module, nn.Linear) and module.in_features == verification_input_size and module.out_features == 256\n",
        "    for module in verification_model.modules()\n",
        ")\n",
        "\n",
        "assert any(\n",
        "    isinstance(module, nn.Linear) and module.in_features == 256 and module.out_features == 128\n",
        "    for module in verification_model.modules()\n",
        ")\n",
        "\n",
        "assert any(\n",
        "    isinstance(module, nn.Linear) and module.in_features == 128 and module.out_features == 1\n",
        "    for module in verification_model.modules()\n",
        ")\n",
        "\n",
        "assert any(isinstance(module, nn.Dropout) and module.p == verification_dropout_p for module in verification_model.modules())\n",
        "assert any(isinstance(module, nn.ReLU) for module in verification_model.modules())\n",
        "\n",
        "assert any(isinstance(module, nn.BatchNorm1d) for module in verification_model.modules())\n",
        "\n",
        "assert test_metrics[\"auroc\"] > 0.8\n",
        "assert test_metrics[\"f1_score\"] > 0.6\n",
        "assert test_metrics[\"precision\"] > 0.5\n",
        "assert test_metrics[\"recall\"] > 0.6\n",
        "\n",
        "print(\"Solution is correct!\")"
      ]
    },
    {
      "cell_type": "markdown",
      "metadata": {
        "editable": true,
        "id": "XyoRnHT4GFR9",
        "tags": []
      },
      "source": [
        "## Akceleracja sprzętowa (dla zainteresowanych)"
      ]
    },
    {
      "cell_type": "markdown",
      "metadata": {
        "id": "Sx00bcdsZ3oV"
      },
      "source": [
        "Jak wcześniej wspominaliśmy, użycie akceleracji sprzętowej, czyli po prostu GPU do obliczeń, jest bardzo efektywne w przypadku sieci neuronowych. Karty graficzne bardzo efektywnie mnożą macierze, a sieci neuronowe to, jak można było się przekonać, dużo mnożenia macierzy.\n",
        "\n",
        "W PyTorchu jest to dosyć łatwe, ale trzeba robić to explicite. Służy do tego metoda `.to()`, która przenosi tensory między CPU i GPU. Poniżej przykład, jak to się robi (oczywiście trzeba mieć skonfigurowane GPU, żeby działało):"
      ]
    },
    {
      "cell_type": "code",
      "execution_count": null,
      "metadata": {
        "id": "m7kTs5sdZ3oV"
      },
      "outputs": [],
      "source": [
        "import time\n",
        "\n",
        "\n",
        "class CudaMLP(nn.Module):\n",
        "    def __init__(self, input_size: int, dropout_p: float = 0.5):\n",
        "        super().__init__()\n",
        "\n",
        "        self.mlp = nn.Sequential(\n",
        "            nn.Linear(input_size, 512),\n",
        "            nn.BatchNorm1d(512),\n",
        "            nn.ReLU(),\n",
        "            nn.Dropout(dropout_p),\n",
        "            nn.Linear(512, 256),\n",
        "            nn.BatchNorm1d(256),\n",
        "            nn.ReLU(),\n",
        "            nn.Dropout(dropout_p),\n",
        "            nn.Linear(256, 256),\n",
        "            nn.BatchNorm1d(256),\n",
        "            nn.ReLU(),\n",
        "            nn.Dropout(dropout_p),\n",
        "            nn.Linear(256, 128),\n",
        "            nn.BatchNorm1d(128),\n",
        "            nn.ReLU(),\n",
        "            nn.Dropout(dropout_p),\n",
        "            nn.Linear(128, 1),\n",
        "        )\n",
        "\n",
        "    def forward(self, x):\n",
        "        return self.mlp(x)\n",
        "\n",
        "    def predict_proba(self, x):\n",
        "        return sigmoid(self(x))\n",
        "\n",
        "    def predict(self, x, threshold: float = 0.5):\n",
        "        y_pred_score = self.predict_proba(x)\n",
        "        return (y_pred_score > threshold).to(torch.int32)\n",
        "\n",
        "\n",
        "model = CudaMLP(X_train.shape[1]).to('cuda')\n",
        "\n",
        "optimizer = torch.optim.AdamW(model.parameters(), lr=learning_rate, weight_decay=1e-4)\n",
        "\n",
        "# note that we are using loss function with sigmoid built in\n",
        "loss_fn = torch.nn.BCEWithLogitsLoss(pos_weight=torch.from_numpy(weights)[1].to('cuda'))\n",
        "\n",
        "step_counter = 0\n",
        "time_from_eval = time.time()\n",
        "for epoch_id in range(30):\n",
        "    for batch_x, batch_y in train_dataloader:\n",
        "        batch_x = batch_x.to('cuda')\n",
        "        batch_y = batch_y.to('cuda')\n",
        "\n",
        "        loss = loss_fn(model(batch_x), batch_y)\n",
        "        loss.backward()\n",
        "\n",
        "        optimizer.step()\n",
        "        optimizer.zero_grad()\n",
        "\n",
        "        if step_counter % evaluation_steps == 0:\n",
        "            print(f\"Epoch {epoch_id} train loss: {loss.item():.4f}, time: {time.time() - time_from_eval}\")\n",
        "            time_from_eval = time.time()\n",
        "\n",
        "        step_counter += 1\n",
        "\n",
        "test_res = evaluate_model(model.to('cpu'), X_test, y_test, loss_fn.to('cpu'), threshold=0.5)\n",
        "\n",
        "print(f\"AUROC: {test_res['AUROC']:.2%}\")\n",
        "print(f\"F1: {test_res['F1-score']:.2%}\")\n",
        "print(test_res)"
      ]
    },
    {
      "cell_type": "markdown",
      "metadata": {
        "id": "z9n516E_Z3oW"
      },
      "source": [
        "Co prawda ten model nie będzie tak dobry jak ten z laboratorium, ale zwróć uwagę, o ile jest większy, a przy tym szybszy.\n",
        "\n",
        "Dla zainteresowanych polecamy [tę serie artykułów](https://medium.com/@adi.fu7/ai-accelerators-part-i-intro-822c2cdb4ca4)"
      ]
    },
    {
      "cell_type": "markdown",
      "metadata": {
        "tags": [
          "ex"
        ],
        "id": "JbaNlUzYZ3oW"
      },
      "source": [
        "## Zadanie dla chętnych"
      ]
    },
    {
      "cell_type": "markdown",
      "metadata": {
        "tags": [
          "ex"
        ],
        "id": "IKBCv5dqZ3oW"
      },
      "source": [
        "Jak widzieliśmy, sieci neuronowe mają bardzo dużo hiperparametrów. Przeszukiwanie ich grid search'em jest więc niewykonalne, a chociaż random search by działał, to potrzebowałby wielu iteracji, co też jest kosztowne obliczeniowo.\n",
        "\n",
        "Zaimplementuj inteligentne przeszukiwanie przestrzeni hiperparametrów za pomocą biblioteki [Optuna](https://optuna.org/). Implementuje ona między innymi algorytm Tree Parzen Estimator (TPE), należący do grupy algorytmów typu Bayesian search. Typowo osiągają one bardzo dobre wyniki, a właściwie zawsze lepsze od przeszukiwania losowego. Do tego wystarcza im często niewielka liczba kroków.\n",
        "\n",
        "Zaimplementuj 3-warstwową sieć MLP, gdzie pierwsza warstwa ma rozmiar ukryty N, a druga N // 2. Ucz ją optymalizatorem Adam przez maksymalnie 300 epok z cierpliwością 10.\n",
        "\n",
        "Przeszukaj wybrane zakresy dla hiperparametrów:\n",
        "- rozmiar warstw ukrytych (N)\n",
        "- stała ucząca\n",
        "- batch size\n",
        "- siła regularyzacji L2\n",
        "- prawdopodobieństwo dropoutu\n",
        "\n",
        "Wykorzystaj przynajmniej 30 iteracji. Następnie przełącz algorytm na losowy (Optuna także jego implementuje), wykonaj 30 iteracji i porównaj jakość wyników.\n",
        "\n",
        "Przydatne materiały:\n",
        "- [Optuna code examples - PyTorch](https://optuna.org/#code_examples)\n",
        "- [Auto-Tuning Hyperparameters with Optuna and PyTorch](https://www.youtube.com/watch?v=P6NwZVl8ttc)\n",
        "- [Hyperparameter Tuning of Neural Networks with Optuna and PyTorch](https://towardsdatascience.com/hyperparameter-tuning-of-neural-networks-with-optuna-and-pytorch-22e179efc837)\n",
        "- [Using Optuna to Optimize PyTorch Hyperparameters](https://medium.com/pytorch/using-optuna-to-optimize-pytorch-hyperparameters-990607385e36)"
      ]
    },
    {
      "cell_type": "code",
      "execution_count": null,
      "metadata": {
        "tags": [
          "ex"
        ],
        "id": "kPMa7UOlZ3oW"
      },
      "outputs": [],
      "source": []
    }
  ],
  "metadata": {
    "colab": {
      "provenance": []
    },
    "jupytext": {
      "formats": "ipynb,py:percent"
    },
    "kernelspec": {
      "display_name": "Python 3 (ipykernel)",
      "language": "python",
      "name": "python3"
    },
    "language_info": {
      "codemirror_mode": {
        "name": "ipython",
        "version": 3
      },
      "file_extension": ".py",
      "mimetype": "text/x-python",
      "name": "python",
      "nbconvert_exporter": "python",
      "pygments_lexer": "ipython3",
      "version": "3.11.5"
    },
    "vscode": {
      "interpreter": {
        "hash": "a5d7af91182035c53be6efb3f9b18ffc3e259c9c524705249407647c970de949"
      }
    }
  },
  "nbformat": 4,
  "nbformat_minor": 0
}